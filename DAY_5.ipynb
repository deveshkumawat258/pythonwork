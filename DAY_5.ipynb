{
  "nbformat": 4,
  "nbformat_minor": 0,
  "metadata": {
    "colab": {
      "provenance": [],
      "authorship_tag": "ABX9TyPoDeo37RHbMXpZy0NDlXzn",
      "include_colab_link": true
    },
    "kernelspec": {
      "name": "python3",
      "display_name": "Python 3"
    },
    "language_info": {
      "name": "python"
    }
  },
  "cells": [
    {
      "cell_type": "markdown",
      "metadata": {
        "id": "view-in-github",
        "colab_type": "text"
      },
      "source": [
        "<a href=\"https://colab.research.google.com/github/deveshkumawat258/pythonwork/blob/main/DAY_5.ipynb\" target=\"_parent\"><img src=\"https://colab.research.google.com/assets/colab-badge.svg\" alt=\"Open In Colab\"/></a>"
      ]
    },
    {
      "cell_type": "code",
      "execution_count": null,
      "metadata": {
        "id": "2H9DjlQfwroz"
      },
      "outputs": [],
      "source": []
    },
    {
      "cell_type": "code",
      "source": [
        "#if we delete any element in list then it will affect every next element which leads to time taking and more process\n",
        "#to avoid this we use a datatype in pyhton that is dictionary\n",
        "#Dictionary\n",
        "#data store key and value pair\n",
        "#key- unique identifier\n",
        "#value:data\n",
        "#no index position \"\n",
        "\n",
        "\n",
        "m={0:\"raj\",1:\"raju\"}\n",
        "print(m[1])"
      ],
      "metadata": {
        "colab": {
          "base_uri": "https://localhost:8080/"
        },
        "id": "q7lUaMNpKvhx",
        "outputId": "ee4e2208-4418-4cd8-8e92-2d9911d92c59"
      },
      "execution_count": null,
      "outputs": [
        {
          "output_type": "stream",
          "name": "stdout",
          "text": [
            "raju\n"
          ]
        }
      ]
    },
    {
      "cell_type": "code",
      "source": [
        "num={0:\"me\",1:\"i\",2:\"myself\"}\n",
        "num[2]=\"tera papa\" #update\n",
        "num[\"papa\"]=3   #insert\n",
        "print(num)\n",
        "\n",
        "num.pop(2)   #delete\n",
        "print(num)"
      ],
      "metadata": {
        "colab": {
          "base_uri": "https://localhost:8080/"
        },
        "id": "8ZkBl50rMeEY",
        "outputId": "8c621219-30a9-46f1-967a-8fdbd249b721"
      },
      "execution_count": null,
      "outputs": [
        {
          "output_type": "stream",
          "name": "stdout",
          "text": [
            "{0: 'me', 1: 'i', 2: 'tera papa', 'papa': 3}\n",
            "{0: 'me', 1: 'i', 'papa': 3}\n"
          ]
        }
      ]
    },
    {
      "cell_type": "code",
      "source": [
        "dic={\"sum\":59}\n",
        "dic[\"sum\"]\n",
        "dic[\"sum\"]=dic[\"sum\"]+7  #to add something to the dictionary\n",
        "print(dic)"
      ],
      "metadata": {
        "colab": {
          "base_uri": "https://localhost:8080/"
        },
        "id": "jYA8xV18Nyj5",
        "outputId": "f7fb7ef4-a88f-406d-bf82-ab8846f8992e"
      },
      "execution_count": null,
      "outputs": [
        {
          "output_type": "stream",
          "name": "stdout",
          "text": [
            "{'sum': 66}\n"
          ]
        }
      ]
    },
    {
      "cell_type": "code",
      "source": [
        "d={\"total\":0}\n",
        "for i in range(45,56):\n",
        "  d[\"total\"]=d[\"total\"]+1\n",
        "print(d)"
      ],
      "metadata": {
        "colab": {
          "base_uri": "https://localhost:8080/"
        },
        "id": "OM139hziOXTr",
        "outputId": "f3741c0c-18dd-4c6f-ea77-1b58fa7ff4ea"
      },
      "execution_count": null,
      "outputs": [
        {
          "output_type": "stream",
          "name": "stdout",
          "text": [
            "{'total': 11}\n"
          ]
        }
      ]
    },
    {
      "cell_type": "code",
      "source": [
        "j=input(\"\")\n",
        "s={\"vowels\":0}\n",
        "for i in j:\n",
        "  if(i in \"aeiou\"):\n",
        "    print(i,\"is vowel\")\n",
        "    s['vowels']=s[\"vowels\"]+1\n",
        "print(s)"
      ],
      "metadata": {
        "id": "oI4gdaxlPEIq",
        "colab": {
          "base_uri": "https://localhost:8080/"
        },
        "outputId": "ef100f28-4374-46f4-dda4-96955ede2c0f"
      },
      "execution_count": null,
      "outputs": [
        {
          "output_type": "stream",
          "name": "stdout",
          "text": [
            "rahul\n",
            "a is vowel\n",
            "u is vowel\n",
            "{'vowels': 2}\n"
          ]
        }
      ]
    },
    {
      "cell_type": "code",
      "source": [
        "#enumerate is a function used to print the index as well as the value of any list or dictionary"
      ],
      "metadata": {
        "id": "w5YW6TpRRJGu"
      },
      "execution_count": null,
      "outputs": []
    },
    {
      "cell_type": "code",
      "source": [
        "list=[2,3,4,5,6,7]\n",
        "for i in enumerate(list):\n",
        "  print(i,i[0],i[1])"
      ],
      "metadata": {
        "colab": {
          "base_uri": "https://localhost:8080/"
        },
        "id": "88fUpUgwRplp",
        "outputId": "5a540b80-d8ab-445d-ebe3-d1de433f47db"
      },
      "execution_count": null,
      "outputs": [
        {
          "output_type": "stream",
          "name": "stdout",
          "text": [
            "(0, 2) 0 2\n",
            "(1, 3) 1 3\n",
            "(2, 4) 2 4\n",
            "(3, 5) 3 5\n",
            "(4, 6) 4 6\n",
            "(5, 7) 5 7\n"
          ]
        }
      ]
    },
    {
      "cell_type": "code",
      "source": [
        "#KBC project\n",
        "#Question => statement ,option:a,b,c,d  answer:B\n",
        "Question=[\n",
        "{\"question\":\"Who is Captain Cool?\",\n",
        " \"option\":[\"A.Michael Jackson\",\"B. V.Kohli\",\"C. Aishwarya rai\",\"D. MS Dhoni\"],\n",
        " \"answer\":\"D\"},\n",
        "{\"question\":\"Who is father of nation?\",\n",
        " \"option\":[\"A. BABA Ramdev\",\"B. Mahatma Gandhi\",\"C. Rahul Gandhi\",\"D. Narendra Modi ji\"],\n",
        " \"answer\":\"B\"},\n",
        " {\"question\":\"Who is GANDU?\",\n",
        " \"option\":[\"A.You\",\"B. Your college\",\"C. Your friends\",\"D. Your Bandi\"],\n",
        " \"answer\":\"A\"}\n",
        "]\n",
        "for i in Question:\n",
        "  print(i)"
      ],
      "metadata": {
        "id": "Ti1i3oltVfwx",
        "colab": {
          "base_uri": "https://localhost:8080/"
        },
        "outputId": "d822941a-3556-42e6-f09a-017a0cfd74ab"
      },
      "execution_count": null,
      "outputs": [
        {
          "output_type": "stream",
          "name": "stdout",
          "text": [
            "{'question': 'Who is Captain Cool?', 'option': ['A.Michael Jackson', 'B. V.Kohli', 'C. Aishwarya rai', 'D. MS Dhoni'], 'answer': 'D'}\n",
            "{'question': 'Who is father of nation?', 'option': ['A. BABA Ramdev', 'B. Mahatma Gandhi', 'C. Rahul Gandhi', 'D. Narendra Modi ji'], 'answer': 'B'}\n",
            "{'question': 'Who is GANDU?', 'option': ['A.You', 'B. Your college', 'C. Your friends', 'D. Your Bandi'], 'answer': 'A'}\n"
          ]
        }
      ]
    },
    {
      "cell_type": "code",
      "source": [
        "total=0\n",
        "amount=[100000000,10000000000,20000000000000000]\n",
        "for i,j in enumerate(Question):\n",
        "  print(f\"{i+1} prashna aapki screen par yeh raha {amount[i]} rupee ke liye\")\n",
        "  print(j[\"question\"])\n",
        "  for k in j[\"option\"]:\n",
        "    print(k)\n",
        "  answerde=input(\"Enter the option A,B,C,D--\").upper()\n",
        "  if(answerde==j[\"answer\"]):\n",
        "    total+=amount[i]\n",
        "    print(f\"Badhai ho aapne jeet liye Rs.{total}\")\n",
        "  else:\n",
        "    print(\"Galat Jawab gharpe jao\")\n",
        "    print(\"kul rashi\",total)\n",
        "    break"
      ],
      "metadata": {
        "colab": {
          "base_uri": "https://localhost:8080/"
        },
        "id": "8LcdHJtIWF7r",
        "outputId": "34d26abb-7a2c-4e26-ddeb-744818b21af1"
      },
      "execution_count": null,
      "outputs": [
        {
          "output_type": "stream",
          "name": "stdout",
          "text": [
            "1 prashna aapki screen par yeh raha 100000000 rupee ke liye\n",
            "Who is Captain Cool?\n",
            "A.Michael Jackson\n",
            "B. V.Kohli\n",
            "C. Aishwarya rai\n",
            "D. MS Dhoni\n",
            "Enter the option A,B,C,D--d\n",
            "Badhai ho aapne jeet liye Rs.100000000\n",
            "2 prashna aapki screen par yeh raha 10000000000 rupee ke liye\n",
            "Who is father of nation?\n",
            "A. BABA Ramdev\n",
            "B. Mahatma Gandhi\n",
            "C. Rahul Gandhi\n",
            "D. Narendra Modi ji\n",
            "Enter the option A,B,C,D--b\n",
            "Badhai ho aapne jeet liye Rs.10100000000\n",
            "3 prashna aapki screen par yeh raha 20000000000000000 rupee ke liye\n",
            "Who is GANDU?\n",
            "A.You\n",
            "B. Your college\n",
            "C. Your friends\n",
            "D. Your Bandi\n",
            "Enter the option A,B,C,D--c\n",
            "Galat Jawab gharpe jao\n",
            "kul rashi 10100000000\n"
          ]
        }
      ]
    },
    {
      "cell_type": "code",
      "source": [
        "#set is a datatype which is used to store multiplevalue in which all values are unique\n",
        "#no index position\n",
        "#combine results of two or more sets\n",
        "setter={12,13,14,15,16,17}\n",
        "print(\"Before changes=>\",setter)\n",
        "setter.add(\"raj\")  #ADD data\n",
        "setter.remove(12) #remove data\n",
        "print(\"After changes=>\",setter)\n",
        "\n",
        "better={1,2,3,4,5,6,}\n",
        "\n",
        "# to join 2 sets\n",
        "print(\"Union:\", setter.union(better))\n",
        "# to find common elements\n",
        "print(\"Intersection:\", setter.intersection(better))\n",
        "# to check if sets have no common elements\n",
        "print(\"Is disjoint:\", setter.isdisjoint(better))\n",
        "# to check if a set is a superset of another\n",
        "print(\"Is superset:\", setter.issuperset(better))\n",
        "# to find the difference between sets\n",
        "print(\"Difference:\", setter.difference(better))"
      ],
      "metadata": {
        "colab": {
          "base_uri": "https://localhost:8080/"
        },
        "id": "Q2lVt8EFb-0P",
        "outputId": "0355fad6-421b-4c54-ca27-a42137f91844"
      },
      "execution_count": null,
      "outputs": [
        {
          "output_type": "stream",
          "name": "stdout",
          "text": [
            "Before changes=> {16, 17, 12, 13, 14, 15}\n",
            "After changes=> {16, 17, 'raj', 13, 14, 15}\n",
            "Union: {1, 2, 3, 4, 5, 6, 13, 14, 15, 16, 17, 'raj'}\n",
            "Intersection: set()\n",
            "Is disjoint: True\n",
            "Is superset: False\n",
            "Difference: {13, 14, 15, 16, 17, 'raj'}\n"
          ]
        }
      ]
    },
    {
      "cell_type": "code",
      "source": [
        "#list comprehensionis used to complete the process in one line\n",
        "#if we want to store the squares in list we do like\n",
        "newlist=[]\n",
        "for i in range(1,8):\n",
        "  newlist.append(i**2)\n",
        "print(newlist)"
      ],
      "metadata": {
        "colab": {
          "base_uri": "https://localhost:8080/"
        },
        "id": "UyHzgPUjf8-J",
        "outputId": "268f5e27-9cb3-4ab6-c2df-7fcff498ca96"
      },
      "execution_count": null,
      "outputs": [
        {
          "output_type": "stream",
          "name": "stdout",
          "text": [
            "[1, 4, 9, 16, 25, 36, 49]\n"
          ]
        }
      ]
    },
    {
      "cell_type": "code",
      "source": [
        "[i**2 for i in range(1,8)]    #list comprehension"
      ],
      "metadata": {
        "colab": {
          "base_uri": "https://localhost:8080/"
        },
        "id": "IcmmJRDegqFU",
        "outputId": "9adeffc6-d1ca-4505-90d4-f61cfffdb9b1"
      },
      "execution_count": null,
      "outputs": [
        {
          "output_type": "execute_result",
          "data": {
            "text/plain": [
              "[1, 4, 9, 16, 25, 36, 49]"
            ]
          },
          "metadata": {},
          "execution_count": 55
        }
      ]
    },
    {
      "cell_type": "code",
      "source": [
        "#dictionary coprehension\n",
        "{i:i**2 for i in range(1,6)}"
      ],
      "metadata": {
        "colab": {
          "base_uri": "https://localhost:8080/"
        },
        "id": "jXYez33NgxfZ",
        "outputId": "d842a904-012d-4ff2-d781-fc64d8c6b3a1"
      },
      "execution_count": null,
      "outputs": [
        {
          "output_type": "execute_result",
          "data": {
            "text/plain": [
              "{1: 1, 2: 4, 3: 9, 4: 16, 5: 25}"
            ]
          },
          "metadata": {},
          "execution_count": 59
        }
      ]
    }
  ]
}