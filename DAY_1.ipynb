{
  "nbformat": 4,
  "nbformat_minor": 0,
  "metadata": {
    "colab": {
      "provenance": [],
      "authorship_tag": "ABX9TyM1vAQNfNenkt5SDePk144e",
      "include_colab_link": true
    },
    "kernelspec": {
      "name": "python3",
      "display_name": "Python 3"
    },
    "language_info": {
      "name": "python"
    }
  },
  "cells": [
    {
      "cell_type": "markdown",
      "metadata": {
        "id": "view-in-github",
        "colab_type": "text"
      },
      "source": [
        "<a href=\"https://colab.research.google.com/github/deveshkumawat258/pythonwork/blob/main/DAY_1.ipynb\" target=\"_parent\"><img src=\"https://colab.research.google.com/assets/colab-badge.svg\" alt=\"Open In Colab\"/></a>"
      ]
    },
    {
      "cell_type": "markdown",
      "source": [
        "DAY 1"
      ],
      "metadata": {
        "id": "ZPamffpMC6WA"
      }
    },
    {
      "cell_type": "code",
      "execution_count": null,
      "metadata": {
        "colab": {
          "base_uri": "https://localhost:8080/"
        },
        "id": "fpRgGlonihIn",
        "outputId": "625f1a0b-d26a-47b9-b80e-aed0bd165b65"
      },
      "outputs": [
        {
          "output_type": "stream",
          "name": "stdout",
          "text": [
            "1000 <class 'int'>\n",
            "400 <class 'str'>\n",
            "devesh\n",
            "my name is devesh\n",
            "your name is kaalu \n"
          ]
        }
      ],
      "source": [
        "\n",
        "x=1000 #variable assignment\n",
        "print (x,type(x))\n",
        "p='400'\n",
        "print(p,type(p))\n",
        "\n",
        "name='devesh'\n",
        "print(name)\n",
        "print(f\"my name is {name}\") #python formatting\n",
        "naam=\"kaalu\"\n",
        "print(\"your name is {} \".format(naam))"
      ]
    },
    {
      "cell_type": "code",
      "source": [
        "#operators\n",
        "#1 arithematic\n",
        "# +-/*//\n",
        "20/2"
      ],
      "metadata": {
        "colab": {
          "base_uri": "https://localhost:8080/"
        },
        "id": "T8gExJvJkYwu",
        "outputId": "1e889325-694e-40a2-e584-c4905d100efa"
      },
      "execution_count": null,
      "outputs": [
        {
          "output_type": "execute_result",
          "data": {
            "text/plain": [
              "10.0"
            ]
          },
          "metadata": {},
          "execution_count": 16
        }
      ]
    },
    {
      "cell_type": "code",
      "source": [
        "20//2# floor division\n"
      ],
      "metadata": {
        "colab": {
          "base_uri": "https://localhost:8080/"
        },
        "id": "SSt6tcipk9O0",
        "outputId": "2ace8be3-1826-4433-b47b-fc0431e5c8cc"
      },
      "execution_count": null,
      "outputs": [
        {
          "output_type": "execute_result",
          "data": {
            "text/plain": [
              "10"
            ]
          },
          "metadata": {},
          "execution_count": 17
        }
      ]
    },
    {
      "cell_type": "code",
      "source": [
        "13//5\n"
      ],
      "metadata": {
        "colab": {
          "base_uri": "https://localhost:8080/"
        },
        "id": "gp7HBh6alD2U",
        "outputId": "6b107c76-0910-40eb-cab3-a2d211c4a3d3"
      },
      "execution_count": null,
      "outputs": [
        {
          "output_type": "execute_result",
          "data": {
            "text/plain": [
              "2"
            ]
          },
          "metadata": {},
          "execution_count": 18
        }
      ]
    },
    {
      "cell_type": "code",
      "source": [
        "11%5#modulus"
      ],
      "metadata": {
        "colab": {
          "base_uri": "https://localhost:8080/"
        },
        "id": "m2qmjJqtl1o3",
        "outputId": "6b096529-27ae-467f-90fe-77befffe2617"
      },
      "execution_count": null,
      "outputs": [
        {
          "output_type": "execute_result",
          "data": {
            "text/plain": [
              "1"
            ]
          },
          "metadata": {},
          "execution_count": 19
        }
      ]
    },
    {
      "cell_type": "code",
      "source": [
        "2**3 #power"
      ],
      "metadata": {
        "colab": {
          "base_uri": "https://localhost:8080/"
        },
        "id": "Wr5KkoQpmDHW",
        "outputId": "3297269c-6db8-4a0d-d5c6-8f0e1b4e7157"
      },
      "execution_count": null,
      "outputs": [
        {
          "output_type": "execute_result",
          "data": {
            "text/plain": [
              "8"
            ]
          },
          "metadata": {},
          "execution_count": 20
        }
      ]
    },
    {
      "cell_type": "code",
      "source": [
        "2**3**4 #it means 2 to the power 3 to the power 4"
      ],
      "metadata": {
        "colab": {
          "base_uri": "https://localhost:8080/"
        },
        "id": "pdyP8cBomuiP",
        "outputId": "90fe1c71-8823-41a1-8466-4197d4c298b8"
      },
      "execution_count": null,
      "outputs": [
        {
          "output_type": "execute_result",
          "data": {
            "text/plain": [
              "2417851639229258349412352"
            ]
          },
          "metadata": {},
          "execution_count": 21
        }
      ]
    },
    {
      "cell_type": "code",
      "source": [
        "#comparison operator answers only true or false\n",
        "\n"
      ],
      "metadata": {
        "id": "ZlM2Jhi3nI-a"
      },
      "execution_count": null,
      "outputs": []
    },
    {
      "cell_type": "code",
      "source": [
        "#asignment operator =\n",
        "x=5\n",
        "x+=10\n",
        "print(x)"
      ],
      "metadata": {
        "colab": {
          "base_uri": "https://localhost:8080/"
        },
        "id": "T2kOmbIlnkli",
        "outputId": "c29684b4-78ff-4180-e737-3c533c61fe15"
      },
      "execution_count": null,
      "outputs": [
        {
          "output_type": "stream",
          "name": "stdout",
          "text": [
            "15\n"
          ]
        }
      ]
    },
    {
      "cell_type": "code",
      "source": [
        "#logical operator\n",
        "#used to combine multiple condition\n",
        "10>9 and 10>8 #and works when both condition true\n",
        "\n"
      ],
      "metadata": {
        "colab": {
          "base_uri": "https://localhost:8080/"
        },
        "id": "InYvZJ77oZ6M",
        "outputId": "7da653b5-e5f2-41c7-8c97-de5186357fe1"
      },
      "execution_count": null,
      "outputs": [
        {
          "output_type": "execute_result",
          "data": {
            "text/plain": [
              "True"
            ]
          },
          "metadata": {},
          "execution_count": 27
        }
      ]
    },
    {
      "cell_type": "code",
      "source": [
        "# or works when any one is true\n",
        "8<10 or  8>10"
      ],
      "metadata": {
        "colab": {
          "base_uri": "https://localhost:8080/"
        },
        "id": "z61zCuHBpprh",
        "outputId": "68e611c8-7db2-4662-ce84-fb86799c4e8f"
      },
      "execution_count": null,
      "outputs": [
        {
          "output_type": "execute_result",
          "data": {
            "text/plain": [
              "True"
            ]
          },
          "metadata": {},
          "execution_count": 29
        }
      ]
    },
    {
      "cell_type": "code",
      "source": [
        "#conditional satetments\n",
        "if(true):\n",
        "  print(\"namaste\")\n",
        "\n",
        "  #if condition is given then it is imp to write something"
      ],
      "metadata": {
        "id": "54Wx97OVqghB"
      },
      "execution_count": null,
      "outputs": []
    },
    {
      "cell_type": "code",
      "source": [
        "if(false):\n",
        "  print(\"jai ho\")\n",
        "else:\n",
        "  print(\"false condition\")\n",
        "print(\"namaste!!!\")"
      ],
      "metadata": {
        "id": "RdCYpO3-r6ff"
      },
      "execution_count": null,
      "outputs": []
    },
    {
      "cell_type": "code",
      "source": [
        "x=100\n",
        "if(x>99):\n",
        "  print(\"x is greater \")\n",
        "else:\n",
        "  print(\"x is smaller \")"
      ],
      "metadata": {
        "colab": {
          "base_uri": "https://localhost:8080/"
        },
        "id": "OWtwYMlFsVAO",
        "outputId": "8525785f-1780-4f97-ce1f-7694984090c9"
      },
      "execution_count": null,
      "outputs": [
        {
          "output_type": "stream",
          "name": "stdout",
          "text": [
            "x is greater \n"
          ]
        }
      ]
    },
    {
      "cell_type": "code",
      "source": [
        "x=12\n",
        "if(x%2==0 and x%3==0):\n",
        "  print(\"x is divisible by both 2 and 3 \")\n",
        "else:\n",
        "  print(\"x is not divisible by 2 and 3 \")"
      ],
      "metadata": {
        "colab": {
          "base_uri": "https://localhost:8080/"
        },
        "id": "muVtX0LoteDA",
        "outputId": "14b66747-094c-4f1d-f5b1-f4ee6ba23bf9"
      },
      "execution_count": null,
      "outputs": [
        {
          "output_type": "stream",
          "name": "stdout",
          "text": [
            "x is divisible by both\n"
          ]
        }
      ]
    },
    {
      "cell_type": "code",
      "source": [
        "age=13\n",
        "if(age%2==0):\n",
        "  print(\"divisible by 2\")\n",
        "elif(age%3==0):\n",
        "  print(\"divisible by 3 \")\n",
        "else:\n",
        "  print(\"not divisible by both\")"
      ],
      "metadata": {
        "colab": {
          "base_uri": "https://localhost:8080/"
        },
        "id": "Rovnrh-FuTRx",
        "outputId": "4bf868d3-c51f-40a3-b516-47d318c660db"
      },
      "execution_count": null,
      "outputs": [
        {
          "output_type": "stream",
          "name": "stdout",
          "text": [
            "not divisible by both\n"
          ]
        }
      ]
    }
  ]
}