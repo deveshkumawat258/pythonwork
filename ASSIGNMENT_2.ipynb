{
  "nbformat": 4,
  "nbformat_minor": 0,
  "metadata": {
    "colab": {
      "provenance": [],
      "authorship_tag": "ABX9TyMMgU+RkerQ9gRa5z3bizpR",
      "include_colab_link": true
    },
    "kernelspec": {
      "name": "python3",
      "display_name": "Python 3"
    },
    "language_info": {
      "name": "python"
    }
  },
  "cells": [
    {
      "cell_type": "markdown",
      "metadata": {
        "id": "view-in-github",
        "colab_type": "text"
      },
      "source": [
        "<a href=\"https://colab.research.google.com/github/deveshkumawat258/pythonwork/blob/main/ASSIGNMENT_2.ipynb\" target=\"_parent\"><img src=\"https://colab.research.google.com/assets/colab-badge.svg\" alt=\"Open In Colab\"/></a>"
      ]
    },
    {
      "cell_type": "code",
      "execution_count": null,
      "metadata": {
        "id": "cOwVEbR-vWbx"
      },
      "outputs": [],
      "source": []
    },
    {
      "cell_type": "code",
      "source": [
        "n=int(input(\"enter the number:\"))\n",
        "i=1\n",
        "while(i<n+1):\n",
        "  print(\"natural numbers are:\",i)\n",
        "  i+=1"
      ],
      "metadata": {
        "id": "HvPws77q4cDR",
        "colab": {
          "base_uri": "https://localhost:8080/"
        },
        "outputId": "927092f7-b0e4-4e6a-eaf8-cf14bbd1eec3"
      },
      "execution_count": null,
      "outputs": [
        {
          "output_type": "stream",
          "name": "stdout",
          "text": [
            "enter the number:1\n",
            "natural numbers are: 1\n"
          ]
        }
      ]
    },
    {
      "cell_type": "code",
      "source": [
        "n=int(input(\"Enter the number:\"))\n",
        "while(n>=1):\n",
        "  print(n)\n",
        "  n-=1"
      ],
      "metadata": {
        "colab": {
          "base_uri": "https://localhost:8080/"
        },
        "id": "u6x-rBYG-ajN",
        "outputId": "4fa15f75-5be0-42c1-8d9c-7646c6e0376c"
      },
      "execution_count": null,
      "outputs": [
        {
          "output_type": "stream",
          "name": "stdout",
          "text": [
            "Enter the number:20\n",
            "20\n",
            "19\n",
            "18\n",
            "17\n",
            "16\n",
            "15\n",
            "14\n",
            "13\n",
            "12\n",
            "11\n",
            "10\n",
            "9\n",
            "8\n",
            "7\n",
            "6\n",
            "5\n",
            "4\n",
            "3\n",
            "2\n",
            "1\n"
          ]
        }
      ]
    },
    {
      "cell_type": "code",
      "source": [
        "\n",
        "char='A'\n",
        "while(char<='Z'):\n",
        "  print(char)\n",
        "  char=chr(ord(char)+1)\n"
      ],
      "metadata": {
        "colab": {
          "base_uri": "https://localhost:8080/"
        },
        "id": "rtv6Q-2-2-D-",
        "outputId": "15a179ad-63d7-4b4a-9bab-ee028f02191c"
      },
      "execution_count": null,
      "outputs": [
        {
          "output_type": "stream",
          "name": "stdout",
          "text": [
            "A\n",
            "B\n",
            "C\n",
            "D\n",
            "E\n",
            "F\n",
            "G\n",
            "H\n",
            "I\n",
            "J\n",
            "K\n",
            "L\n",
            "M\n",
            "N\n",
            "O\n",
            "P\n",
            "Q\n",
            "R\n",
            "S\n",
            "T\n",
            "U\n",
            "V\n",
            "W\n",
            "X\n",
            "Y\n",
            "Z\n"
          ]
        }
      ]
    },
    {
      "cell_type": "code",
      "source": [
        "a=2\n",
        "while(a<100):\n",
        "  print(a)\n",
        "  a+=2\n",
        "\n"
      ],
      "metadata": {
        "colab": {
          "base_uri": "https://localhost:8080/"
        },
        "id": "V7WlK7ZE4RfF",
        "outputId": "d1ed499f-ac3c-4caa-81f6-07cd539d8515"
      },
      "execution_count": null,
      "outputs": [
        {
          "output_type": "stream",
          "name": "stdout",
          "text": [
            "2\n",
            "4\n",
            "6\n",
            "8\n",
            "10\n",
            "12\n",
            "14\n",
            "16\n",
            "18\n",
            "20\n",
            "22\n",
            "24\n",
            "26\n",
            "28\n",
            "30\n",
            "32\n",
            "34\n",
            "36\n",
            "38\n",
            "40\n",
            "42\n",
            "44\n",
            "46\n",
            "48\n",
            "50\n",
            "52\n",
            "54\n",
            "56\n",
            "58\n",
            "60\n",
            "62\n",
            "64\n",
            "66\n",
            "68\n",
            "70\n",
            "72\n",
            "74\n",
            "76\n",
            "78\n",
            "80\n",
            "82\n",
            "84\n",
            "86\n",
            "88\n",
            "90\n",
            "92\n",
            "94\n",
            "96\n",
            "98\n"
          ]
        }
      ]
    },
    {
      "cell_type": "code",
      "source": [
        "n=int(input(\"enter the number:\"))\n",
        "a=1\n",
        "sum=0\n",
        "while(a<=n):\n",
        "  if(a%2!=0):\n",
        "    sum=sum+a\n",
        "  a+=1\n",
        "print(sum,\" is the sum of all odd numbers in between\")\n"
      ],
      "metadata": {
        "colab": {
          "base_uri": "https://localhost:8080/"
        },
        "id": "h9Hq_1fp7ZGI",
        "outputId": "c62197d5-13a4-4431-a053-c9448d76fa38"
      },
      "execution_count": null,
      "outputs": [
        {
          "output_type": "stream",
          "name": "stdout",
          "text": [
            "enter the number:2375\n",
            "1411344  is the sum of all odd numbers in between\n"
          ]
        }
      ]
    },
    {
      "cell_type": "code",
      "source": [
        "#count digits\n",
        "n=int(input(\"Enter any number \"))\n",
        "a=0\n",
        "while(n!=0):\n",
        "  n//=10\n",
        "  a+=1\n",
        "print(a)\n",
        "\n"
      ],
      "metadata": {
        "colab": {
          "base_uri": "https://localhost:8080/"
        },
        "id": "XsvcTKDDeW1Z",
        "outputId": "84c0e73f-5636-47e2-d3ae-63d0c1dbc677"
      },
      "execution_count": null,
      "outputs": [
        {
          "output_type": "stream",
          "name": "stdout",
          "text": [
            "Enter any number 1434274\n",
            "7\n"
          ]
        }
      ]
    },
    {
      "cell_type": "code",
      "source": [
        "#sum of digits of number\n",
        "n=int(input(\"Enter any number \"))\n",
        "a=0\n",
        "while(n!=0):\n",
        "  a+=n%10\n",
        "  n//=10\n",
        "print(a)"
      ],
      "metadata": {
        "colab": {
          "base_uri": "https://localhost:8080/"
        },
        "id": "e236qpjhiU1I",
        "outputId": "2cbd615d-8111-41ad-e79c-3999268d3828"
      },
      "execution_count": null,
      "outputs": [
        {
          "output_type": "stream",
          "name": "stdout",
          "text": [
            "Enter any number 5264383\n",
            "3\n",
            "8\n",
            "3\n",
            "4\n",
            "6\n",
            "2\n",
            "5\n"
          ]
        }
      ]
    },
    {
      "cell_type": "code",
      "source": [
        "#PRINT 1st and last digit\n",
        "n=int(input(\"Enter any number \"))\n",
        "f=n%10\n",
        "while(n>=10):\n",
        "  n//=10\n",
        "print(n,f)\n",
        "print(n+f)\n"
      ],
      "metadata": {
        "colab": {
          "base_uri": "https://localhost:8080/"
        },
        "id": "dZh_Zmd4nDQ1",
        "outputId": "418f51ff-f656-48c9-dd25-d1714546d041"
      },
      "execution_count": null,
      "outputs": [
        {
          "output_type": "stream",
          "name": "stdout",
          "text": [
            "Enter any number 23323\n",
            "2 3\n",
            "5\n"
          ]
        }
      ]
    },
    {
      "cell_type": "code",
      "source": [
        "#sum of digits of number reverse\n",
        "n=int(input(\"Enter any number \"))\n",
        "a=0\n",
        "while(n!=0):\n",
        "  a=a*10+n%10\n",
        "  n//=10\n",
        "print(a)\n"
      ],
      "metadata": {
        "colab": {
          "base_uri": "https://localhost:8080/"
        },
        "id": "TBvebyZXtqH6",
        "outputId": "c23a3c53-adb0-4f2c-a654-0be6103af35d"
      },
      "execution_count": null,
      "outputs": [
        {
          "output_type": "stream",
          "name": "stdout",
          "text": [
            "Enter any number 5647\n",
            "7465\n"
          ]
        }
      ]
    },
    {
      "cell_type": "code",
      "source": [
        "#to find the power of a number using for loop\n",
        "base = int(input(\"Enter base: \"))\n",
        "exponent = int(input(\"Enter exponent: \"))\n",
        "result = 1\n",
        "for _ in range(exponent):\n",
        "    result *= base\n",
        "print(\"Power:\", result)\n",
        "\n"
      ],
      "metadata": {
        "id": "glgk-WHEVVve"
      },
      "execution_count": null,
      "outputs": []
    },
    {
      "cell_type": "code",
      "source": [
        "num = int(input(\"Enter number: \"))\n",
        "for i in range(1, num + 1):\n",
        "    if num % i == 0:\n",
        "        print(i, end=\" \")\n"
      ],
      "metadata": {
        "colab": {
          "base_uri": "https://localhost:8080/"
        },
        "id": "R7yWD9uBkhBa",
        "outputId": "7d4e9329-afbd-4b56-c20e-2c50aea0411a"
      },
      "execution_count": null,
      "outputs": [
        {
          "output_type": "stream",
          "name": "stdout",
          "text": [
            "Enter number: 18\n",
            "1 2 3 6 9 18 "
          ]
        }
      ]
    },
    {
      "cell_type": "code",
      "source": [
        "num = int(input(\"Enter number: \"))\n",
        "factorial = 1\n",
        "for i in range(1, num + 1):\n",
        "    factorial *= i\n",
        "print(\"Factorial:\", factorial)\n",
        "\n"
      ],
      "metadata": {
        "id": "D-w8VJlZk5bA"
      },
      "execution_count": null,
      "outputs": []
    }
  ]
}