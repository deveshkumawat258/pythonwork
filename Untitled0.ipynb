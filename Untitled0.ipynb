{
  "nbformat": 4,
  "nbformat_minor": 0,
  "metadata": {
    "colab": {
      "provenance": [],
      "authorship_tag": "ABX9TyMrqI1SgMP/DzLJVxj+NuU3",
      "include_colab_link": true
    },
    "kernelspec": {
      "name": "python3",
      "display_name": "Python 3"
    },
    "language_info": {
      "name": "python"
    }
  },
  "cells": [
    {
      "cell_type": "markdown",
      "metadata": {
        "id": "view-in-github",
        "colab_type": "text"
      },
      "source": [
        "<a href=\"https://colab.research.google.com/github/deveshkumawat258/pythonwork/blob/main/Untitled0.ipynb\" target=\"_parent\"><img src=\"https://colab.research.google.com/assets/colab-badge.svg\" alt=\"Open In Colab\"/></a>"
      ]
    },
    {
      "cell_type": "markdown",
      "source": [
        "DAY 1"
      ],
      "metadata": {
        "id": "ZPamffpMC6WA"
      }
    },
    {
      "cell_type": "code",
      "execution_count": null,
      "metadata": {
        "colab": {
          "base_uri": "https://localhost:8080/"
        },
        "id": "fpRgGlonihIn",
        "outputId": "625f1a0b-d26a-47b9-b80e-aed0bd165b65"
      },
      "outputs": [
        {
          "output_type": "stream",
          "name": "stdout",
          "text": [
            "1000 <class 'int'>\n",
            "400 <class 'str'>\n",
            "devesh\n",
            "my name is devesh\n",
            "your name is kaalu \n"
          ]
        }
      ],
      "source": [
        "\n",
        "x=1000 #variable assignment\n",
        "print (x,type(x))\n",
        "p='400'\n",
        "print(p,type(p))\n",
        "\n",
        "name='devesh'\n",
        "print(name)\n",
        "print(f\"my name is {name}\") #python formatting\n",
        "naam=\"kaalu\"\n",
        "print(\"your name is {} \".format(naam))"
      ]
    },
    {
      "cell_type": "code",
      "source": [
        "#operators\n",
        "#1 arithematic\n",
        "# +-/*//\n",
        "20/2"
      ],
      "metadata": {
        "colab": {
          "base_uri": "https://localhost:8080/"
        },
        "id": "T8gExJvJkYwu",
        "outputId": "1e889325-694e-40a2-e584-c4905d100efa"
      },
      "execution_count": null,
      "outputs": [
        {
          "output_type": "execute_result",
          "data": {
            "text/plain": [
              "10.0"
            ]
          },
          "metadata": {},
          "execution_count": 16
        }
      ]
    },
    {
      "cell_type": "code",
      "source": [
        "20//2# floor division\n"
      ],
      "metadata": {
        "colab": {
          "base_uri": "https://localhost:8080/"
        },
        "id": "SSt6tcipk9O0",
        "outputId": "2ace8be3-1826-4433-b47b-fc0431e5c8cc"
      },
      "execution_count": null,
      "outputs": [
        {
          "output_type": "execute_result",
          "data": {
            "text/plain": [
              "10"
            ]
          },
          "metadata": {},
          "execution_count": 17
        }
      ]
    },
    {
      "cell_type": "code",
      "source": [
        "13//5\n"
      ],
      "metadata": {
        "colab": {
          "base_uri": "https://localhost:8080/"
        },
        "id": "gp7HBh6alD2U",
        "outputId": "6b107c76-0910-40eb-cab3-a2d211c4a3d3"
      },
      "execution_count": null,
      "outputs": [
        {
          "output_type": "execute_result",
          "data": {
            "text/plain": [
              "2"
            ]
          },
          "metadata": {},
          "execution_count": 18
        }
      ]
    },
    {
      "cell_type": "code",
      "source": [
        "11%5#modulus"
      ],
      "metadata": {
        "colab": {
          "base_uri": "https://localhost:8080/"
        },
        "id": "m2qmjJqtl1o3",
        "outputId": "6b096529-27ae-467f-90fe-77befffe2617"
      },
      "execution_count": null,
      "outputs": [
        {
          "output_type": "execute_result",
          "data": {
            "text/plain": [
              "1"
            ]
          },
          "metadata": {},
          "execution_count": 19
        }
      ]
    },
    {
      "cell_type": "code",
      "source": [
        "2**3 #power"
      ],
      "metadata": {
        "colab": {
          "base_uri": "https://localhost:8080/"
        },
        "id": "Wr5KkoQpmDHW",
        "outputId": "3297269c-6db8-4a0d-d5c6-8f0e1b4e7157"
      },
      "execution_count": null,
      "outputs": [
        {
          "output_type": "execute_result",
          "data": {
            "text/plain": [
              "8"
            ]
          },
          "metadata": {},
          "execution_count": 20
        }
      ]
    },
    {
      "cell_type": "code",
      "source": [
        "2**3**4 #it means 2 to the power 3 to the power 4"
      ],
      "metadata": {
        "colab": {
          "base_uri": "https://localhost:8080/"
        },
        "id": "pdyP8cBomuiP",
        "outputId": "90fe1c71-8823-41a1-8466-4197d4c298b8"
      },
      "execution_count": null,
      "outputs": [
        {
          "output_type": "execute_result",
          "data": {
            "text/plain": [
              "2417851639229258349412352"
            ]
          },
          "metadata": {},
          "execution_count": 21
        }
      ]
    },
    {
      "cell_type": "code",
      "source": [
        "#comparison operator answers only true or false\n",
        "\n"
      ],
      "metadata": {
        "id": "ZlM2Jhi3nI-a"
      },
      "execution_count": null,
      "outputs": []
    },
    {
      "cell_type": "code",
      "source": [
        "#asignment operator =\n",
        "x=5\n",
        "x+=10\n",
        "print(x)"
      ],
      "metadata": {
        "colab": {
          "base_uri": "https://localhost:8080/"
        },
        "id": "T2kOmbIlnkli",
        "outputId": "c29684b4-78ff-4180-e737-3c533c61fe15"
      },
      "execution_count": null,
      "outputs": [
        {
          "output_type": "stream",
          "name": "stdout",
          "text": [
            "15\n"
          ]
        }
      ]
    },
    {
      "cell_type": "code",
      "source": [
        "#logical operator\n",
        "#used to combine multiple condition\n",
        "10>9 and 10>8 #and works when both condition true\n",
        "\n"
      ],
      "metadata": {
        "colab": {
          "base_uri": "https://localhost:8080/"
        },
        "id": "InYvZJ77oZ6M",
        "outputId": "7da653b5-e5f2-41c7-8c97-de5186357fe1"
      },
      "execution_count": null,
      "outputs": [
        {
          "output_type": "execute_result",
          "data": {
            "text/plain": [
              "True"
            ]
          },
          "metadata": {},
          "execution_count": 27
        }
      ]
    },
    {
      "cell_type": "code",
      "source": [
        "# or works when any one is true\n",
        "8<10 or  8>10"
      ],
      "metadata": {
        "colab": {
          "base_uri": "https://localhost:8080/"
        },
        "id": "z61zCuHBpprh",
        "outputId": "68e611c8-7db2-4662-ce84-fb86799c4e8f"
      },
      "execution_count": null,
      "outputs": [
        {
          "output_type": "execute_result",
          "data": {
            "text/plain": [
              "True"
            ]
          },
          "metadata": {},
          "execution_count": 29
        }
      ]
    },
    {
      "cell_type": "code",
      "source": [
        "#conditional satetments\n",
        "if(true):\n",
        "  print(\"namaste\")\n",
        "\n",
        "  #if condition is given then it is imp to write something"
      ],
      "metadata": {
        "id": "54Wx97OVqghB"
      },
      "execution_count": null,
      "outputs": []
    },
    {
      "cell_type": "code",
      "source": [
        "if(false):\n",
        "  print(\"jai ho\")\n",
        "else:\n",
        "  print(\"false condition\")\n",
        "print(\"namaste!!!\")"
      ],
      "metadata": {
        "id": "RdCYpO3-r6ff"
      },
      "execution_count": null,
      "outputs": []
    },
    {
      "cell_type": "code",
      "source": [
        "x=100\n",
        "if(x>99):\n",
        "  print(\"x is greater \")\n",
        "else:\n",
        "  print(\"x is smaller \")"
      ],
      "metadata": {
        "colab": {
          "base_uri": "https://localhost:8080/"
        },
        "id": "OWtwYMlFsVAO",
        "outputId": "8525785f-1780-4f97-ce1f-7694984090c9"
      },
      "execution_count": null,
      "outputs": [
        {
          "output_type": "stream",
          "name": "stdout",
          "text": [
            "x is greater \n"
          ]
        }
      ]
    },
    {
      "cell_type": "code",
      "source": [
        "x=12\n",
        "if(x%2==0 and x%3==0):\n",
        "  print(\"x is divisible by both 2 and 3 \")\n",
        "else:\n",
        "  print(\"x is not divisible by 2 and 3 \")"
      ],
      "metadata": {
        "colab": {
          "base_uri": "https://localhost:8080/"
        },
        "id": "muVtX0LoteDA",
        "outputId": "14b66747-094c-4f1d-f5b1-f4ee6ba23bf9"
      },
      "execution_count": null,
      "outputs": [
        {
          "output_type": "stream",
          "name": "stdout",
          "text": [
            "x is divisible by both\n"
          ]
        }
      ]
    },
    {
      "cell_type": "code",
      "source": [
        "age=13\n",
        "if(age%2==0):\n",
        "  print(\"divisible by 2\")\n",
        "elif(age%3==0):\n",
        "  print(\"divisible by 3 \")\n",
        "else:\n",
        "  print(\"not divisible by both\")"
      ],
      "metadata": {
        "colab": {
          "base_uri": "https://localhost:8080/"
        },
        "id": "Rovnrh-FuTRx",
        "outputId": "4bf868d3-c51f-40a3-b516-47d318c660db"
      },
      "execution_count": null,
      "outputs": [
        {
          "output_type": "stream",
          "name": "stdout",
          "text": [
            "not divisible by both\n"
          ]
        }
      ]
    },
    {
      "cell_type": "markdown",
      "source": [
        "ASSIGNMENT 1"
      ],
      "metadata": {
        "id": "h4lSd4ojC_aS"
      }
    },
    {
      "cell_type": "code",
      "source": [
        "#question 1\n",
        "#even or odd\n",
        "x =int(input(\"Enter a number: \"))\n",
        "if(x%2==0):\n",
        "  print(\"x is an even number \")\n",
        "elif(x%2==1):\n",
        "  print(\"x is an odd number \")"
      ],
      "metadata": {
        "id": "v2ekptTyvCgA",
        "colab": {
          "base_uri": "https://localhost:8080/"
        },
        "outputId": "794f7593-ab5f-4066-ee75-f305baad839e"
      },
      "execution_count": null,
      "outputs": [
        {
          "output_type": "stream",
          "name": "stdout",
          "text": [
            "Enter a number: 12\n",
            "x is an even number \n"
          ]
        }
      ]
    },
    {
      "cell_type": "code",
      "source": [
        "#question 2\n",
        "#largest of three\n",
        "x= int(input(\"enter 1st number:\"))\n",
        "y= int(input(\"enter 2nd number:\"))\n",
        "z= int(input(\"enter 3rd number:\"))\n",
        "if(x>y and x>z):\n",
        "  print(\"x is largest:\", x)\n",
        "elif(y>x and y>z):\n",
        "  print(\"y is largest:\", y)\n",
        "else:\n",
        "  print(\"z is largest:\", z)"
      ],
      "metadata": {
        "colab": {
          "base_uri": "https://localhost:8080/"
        },
        "id": "6CAyY2pzKxvg",
        "outputId": "c6004feb-ff2b-4e96-b43e-187e0ded7e45"
      },
      "execution_count": null,
      "outputs": [
        {
          "output_type": "stream",
          "name": "stdout",
          "text": [
            "enter 1st number:2\n",
            "enter 2nd number:10\n",
            "enter 3rd number:1\n",
            "y is largest: 10\n"
          ]
        }
      ]
    },
    {
      "cell_type": "code",
      "source": [
        "# question 3\n",
        "# leap year\n",
        "x= int(input(\"enter an year:\"))\n",
        "if(x%4==0 and x%100!=0 )or (x%400==0):\n",
        "  print(x, \"is a leap year\")\n",
        "else:\n",
        "  print(x, \"is not a leap year\")"
      ],
      "metadata": {
        "colab": {
          "base_uri": "https://localhost:8080/"
        },
        "id": "nhkIUXBUMMpT",
        "outputId": "8cbd9eff-b037-4659-8233-6fc4a0660923"
      },
      "execution_count": null,
      "outputs": [
        {
          "output_type": "stream",
          "name": "stdout",
          "text": [
            "enter an year:2020\n",
            "2020 is a leap year\n"
          ]
        }
      ]
    },
    {
      "cell_type": "code",
      "source": [
        "#question 4\n",
        "x=int(input(\"enter the percentage:\"))\n",
        "if(x>100):\n",
        "  print(\"Enter valid percentage:\")\n",
        "elif(x>=90):\n",
        "  print(\"Grade A\")\n",
        "elif(x>=80 and x<=90):\n",
        "  print(\"Grade B\")\n",
        "elif(x>=70 and x<=80):\n",
        "  print(\"Grade C\")\n",
        "elif(x>=60 and x<=70):\n",
        "  print(\"Grade D\")\n",
        "else:\n",
        "  print(\"Grade F\")"
      ],
      "metadata": {
        "colab": {
          "base_uri": "https://localhost:8080/"
        },
        "id": "F6yr8uDiPt9r",
        "outputId": "85723e07-6e1d-49ae-bcff-838ef34de010"
      },
      "execution_count": null,
      "outputs": [
        {
          "output_type": "stream",
          "name": "stdout",
          "text": [
            "enter the percentage:89\n",
            "Grade B\n"
          ]
        }
      ]
    },
    {
      "cell_type": "code",
      "source": [
        "#question 5\n",
        "#vowel or consonent\n",
        "letter=input(\"enter a letter:\" )\n",
        "if(letter==\"a\" ):\n",
        "  print(letter, \" is vowel\")\n",
        "elif(letter==\"e\" ):\n",
        "  print(letter, \" is vowel\")\n",
        "elif(letter==\"i\" ):\n",
        "  print(letter, \" is vowel\")\n",
        "elif(letter==\"o\" ):\n",
        "  print(letter, \" is vowel\")\n",
        "elif(letter==\"u\" ):\n",
        "  print(letter, \" is vowel\")\n",
        "else:\n",
        "  print(letter, \"is consonant\")"
      ],
      "metadata": {
        "colab": {
          "base_uri": "https://localhost:8080/"
        },
        "id": "r_L4nf-rXdHB",
        "outputId": "9e9481e9-3f2b-439f-bf9d-eaf708c1636e"
      },
      "execution_count": null,
      "outputs": [
        {
          "output_type": "stream",
          "name": "stdout",
          "text": [
            "enter a letter:l\n",
            "l is consonant\n"
          ]
        }
      ]
    },
    {
      "cell_type": "code",
      "source": [
        "#question6\n",
        "#calculator\n",
        "num1=float(input(\"enter first number: \"))\n",
        "operator=input(\"enter an operator(+,-,/,*):\")\n",
        "num2=float(input(\"enter 2nd number:\"))\n",
        "if(operator=='+'):\n",
        "  print(num1+num2)\n",
        "elif(operator=='-'):\n",
        "  print(num1-num2)\n",
        "elif(operator=='*'):\n",
        "  print(num1*num2)\n",
        "elif(operator=='/'):\n",
        "  print(num1/num2)"
      ],
      "metadata": {
        "colab": {
          "base_uri": "https://localhost:8080/"
        },
        "id": "b19HMWVqfoU6",
        "outputId": "90b4727d-d635-4b32-cf37-620b81399209"
      },
      "execution_count": null,
      "outputs": [
        {
          "output_type": "stream",
          "name": "stdout",
          "text": [
            "enter first number: 12\n",
            "enter an operator(+,-,/,*):*\n",
            "enter 2nd number:45\n",
            "540.0\n"
          ]
        }
      ]
    },
    {
      "cell_type": "code",
      "source": [
        "#question 7\n",
        "#positive or negative\n",
        "number=int(input(\"enter the number:\"))\n",
        "if(number>0):\n",
        "  print(\"number is positive\")\n",
        "elif(number<0):\n",
        "  print(\"number is negative\")\n",
        "elif(number==0):\n",
        "  print(\"number is zero\")"
      ],
      "metadata": {
        "colab": {
          "base_uri": "https://localhost:8080/"
        },
        "id": "8PZzuZtUpHOn",
        "outputId": "e781361a-6f7f-4643-84c9-9152e079e61a"
      },
      "execution_count": null,
      "outputs": [
        {
          "output_type": "stream",
          "name": "stdout",
          "text": [
            "enter the number:-9\n",
            "number is negative\n"
          ]
        }
      ]
    },
    {
      "cell_type": "code",
      "source": [
        "#question 8\n",
        "#password and username\n",
        "usnm=\"admin\"\n",
        "pwd=\"1234\"\n",
        "username=input(\"enter the username:\")\n",
        "password=input(\"Enter the password:\")\n",
        "if(username==usnm and password==pwd):\n",
        "  print(\"Login Successful!\")\n",
        "else:\n",
        "  print(\"Login Failed!\")"
      ],
      "metadata": {
        "colab": {
          "base_uri": "https://localhost:8080/"
        },
        "id": "nbdYcVt4p2Ri",
        "outputId": "f1a23c42-69b0-4b2f-ffb6-8d55c35a12d0"
      },
      "execution_count": null,
      "outputs": [
        {
          "output_type": "stream",
          "name": "stdout",
          "text": [
            "enter the username:devesh\n",
            "Enter the password:234\n",
            "Login Failed!\n"
          ]
        }
      ]
    },
    {
      "cell_type": "code",
      "source": [
        "#question 9\n",
        "#valid triangle\n",
        "print(\"Enter the three sides of triangle:\")\n",
        "a=int(input(\"Side 1:\"))\n",
        "b=int(input(\"Side 2:\"))\n",
        "c=int(input(\"Side 3:\"))\n",
        "if(a+b>c or b+c>a or c+a>b):\n",
        "  print(\"The triangle is valid \")\n",
        "else:\n",
        "  print(\"invalid triangle\")"
      ],
      "metadata": {
        "colab": {
          "base_uri": "https://localhost:8080/"
        },
        "id": "j_KKm1OErHDB",
        "outputId": "1da37377-1d41-417b-fc13-ef2ad7c09b13"
      },
      "execution_count": null,
      "outputs": [
        {
          "output_type": "stream",
          "name": "stdout",
          "text": [
            "Enter the three sides of triangle:\n",
            "Side 1:2\n",
            "Side 2:4\n",
            "Side 3:6\n",
            "The triangle is valid \n"
          ]
        }
      ]
    },
    {
      "cell_type": "code",
      "source": [
        "#question 10\n",
        "#BMI\n",
        "print(\"Enter your weight and height for BMI\")\n",
        "weight=float(input(\"Enter weight(kg):\"))\n",
        "height=float(input(\"Enter Height(m)\"))\n",
        "BMI=weight/(height**2)\n",
        "if(BMI<18.5):\n",
        "  print(\"Underweight\")\n",
        "elif(18.5<=BMI<25):\n",
        "  print(\"Normal weight\")\n",
        "elif(25<=BMI<30):\n",
        "  print(\"Overweight\")\n",
        "elif(BMI>=30):\n",
        "  print(\"Obesity\")\n",
        "print(\"BMI is \",BMI)"
      ],
      "metadata": {
        "colab": {
          "base_uri": "https://localhost:8080/"
        },
        "id": "wc_UjokYsgnS",
        "outputId": "549b3e4a-2ba6-45b9-9eac-8c7f1aabe0a4"
      },
      "execution_count": null,
      "outputs": [
        {
          "output_type": "stream",
          "name": "stdout",
          "text": [
            "Enter your weight and height for BMI\n",
            "Enter weight(kg):90\n",
            "Enter Height(m)2.3\n",
            "Underweight\n",
            "BMI is  17.013232514177698\n"
          ]
        }
      ]
    },
    {
      "cell_type": "code",
      "source": [
        "#question 11\n",
        "#discount\n",
        "price=float(input(\"Enter the price of the product:\"))\n",
        "if(price>=1000):\n",
        "  discount=(price*10)/100\n",
        "  print(\"discount is 10%:\" ,discount)\n",
        "  print(\"Final price is:\",price-discount)\n",
        "elif(500<=price<1000):\n",
        "  discount=(price*5)/100\n",
        "  print(\"discount is 10%:\" ,discount)\n",
        "  print(\"Final price is:\",price-discount)\n",
        "else:\n",
        "  print(\"no discount!!\")\n",
        "\n",
        "\n"
      ],
      "metadata": {
        "colab": {
          "base_uri": "https://localhost:8080/"
        },
        "id": "4XObbXgsuTp0",
        "outputId": "0f970cd2-99c1-4d92-962c-c8ec4ca07275"
      },
      "execution_count": null,
      "outputs": [
        {
          "output_type": "stream",
          "name": "stdout",
          "text": [
            "Enter the price of the product:596895.8377\n",
            "discount is 10%: 59689.583770000005\n",
            "Final price is: 537206.25393\n"
          ]
        }
      ]
    },
    {
      "cell_type": "code",
      "source": [
        "#question 12\n",
        "#print days in month\n",
        "month=input(\"enter the name of the month:\")\n",
        "if(month=='january' or month=='march'or month=='may'or month=='july'or month=='august'or month=='december'):\n",
        "  print(\"The no. of days in month are 31\")\n",
        "elif(month=='april'or month=='june'or month=='september'or month=='november'):\n",
        "  print(\"No. of days in month are 30\")\n",
        "elif(month=='february'):\n",
        "  print(\"No. of days are 29\")"
      ],
      "metadata": {
        "colab": {
          "base_uri": "https://localhost:8080/"
        },
        "id": "tl7vwueK23JN",
        "outputId": "ab27911e-73db-4d7e-9c89-8bb49afe4a27"
      },
      "execution_count": null,
      "outputs": [
        {
          "output_type": "stream",
          "name": "stdout",
          "text": [
            "enter the name of the month:june\n",
            "No. of days in month are 30\n"
          ]
        }
      ]
    },
    {
      "cell_type": "code",
      "source": [
        "#question13\n",
        "#ATM\n",
        "balance=1000\n",
        "print(\" 1.Check balance 2.Deposit money 3.Withdraw money\")\n",
        "choice=int(input(\"Enter the choice(1,2,3)\"))\n",
        "if(choice==1):\n",
        "  print(\"balance is: \",balance)\n",
        "elif(choice==2):\n",
        "  ADD=float(input(\"Enter the money to be added:\"))\n",
        "  balance+=ADD\n",
        "  print(\"Updated balance is \",balance)\n",
        "elif(choice==3):\n",
        "\n",
        "  WTH=float(input(\"Enter the money to withdraw:\"))\n",
        "  if(balance-WTH>=0):\n",
        "    balance-=WTH\n",
        "    print(\"Updated balance is \",balance)\n",
        "  else:\n",
        "    print(\"Insufficient Ammount. Try again\")\n"
      ],
      "metadata": {
        "id": "R9TTueK_6QhH",
        "colab": {
          "base_uri": "https://localhost:8080/"
        },
        "outputId": "caf9d077-82c5-47fa-a29f-45f1b48512e9"
      },
      "execution_count": null,
      "outputs": [
        {
          "output_type": "stream",
          "name": "stdout",
          "text": [
            " 1.Check balance 2.Deposit money 3.Withdraw money\n",
            "Enter the choice(1,2,3)2\n",
            "Enter the money to be added:2000\n",
            "Updated balance is  3000.0\n"
          ]
        }
      ]
    },
    {
      "cell_type": "code",
      "source": [
        "\n",
        "#question 14\n",
        "age=int(input(\"Enter the age \"))\n",
        "if(0<=age<=1):\n",
        "  print(\"infant\")\n",
        "elif(2<=age<=4):\n",
        "  print(\"Toddler\")\n",
        "elif(5<=age<=12):\n",
        "  print(\"child\")\n",
        "elif(13<=age<=19):\n",
        "  print(\"teenager\")\n",
        "elif(20<=age<=59):\n",
        "  print(\"Adult\")\n",
        "elif(60<=age):\n",
        "  print(\"senior\")"
      ],
      "metadata": {
        "colab": {
          "base_uri": "https://localhost:8080/"
        },
        "id": "4fftd6H-785x",
        "outputId": "ea8f1910-4ff6-4a44-fd9f-9d7edcfb9d37"
      },
      "execution_count": null,
      "outputs": [
        {
          "output_type": "stream",
          "name": "stdout",
          "text": [
            "Enter the age 38\n",
            "Adult\n"
          ]
        }
      ]
    },
    {
      "cell_type": "code",
      "source": [
        "#question15\n",
        "#name of the day\n",
        "day=int(input(\"Enter the number of the day:\",))\n",
        "if(day==1):\n",
        "  print(\"Monday\")\n",
        "elif(day==2):\n",
        "  print(\"Tuesday\")\n",
        "elif(day==3):\n",
        "  print(\"Wednesday\")\n",
        "elif(day==4):\n",
        "  print(\"Thursday\")\n",
        "elif(day==5):\n",
        "  print(\"Friday\")\n",
        "elif(day==6):\n",
        "  print(\"Saturday\")\n",
        "elif(day==7):\n",
        "  print(\"Sunday\")\n",
        "else:\n",
        "  print(\"invalid input!!\")"
      ],
      "metadata": {
        "colab": {
          "base_uri": "https://localhost:8080/"
        },
        "id": "O8vTXFN8-QB4",
        "outputId": "3f0b98d7-6764-45cf-f739-e4ef9a975046"
      },
      "execution_count": null,
      "outputs": [
        {
          "output_type": "stream",
          "name": "stdout",
          "text": [
            "Enter the number of the day:8\n",
            "invalid input!!\n"
          ]
        }
      ]
    },
    {
      "cell_type": "code",
      "source": [
        "num=int(input(\"enter number \"))\n",
        "if(num%2==0):\n",
        "  if(num%3==0):\n",
        "    print(\"number is divisible by 6\")\n",
        "  else:\n",
        "    print(\"number is divisible by 2\")\n",
        "else:\n",
        "  print(\"number is not divisible by 2\")"
      ],
      "metadata": {
        "colab": {
          "base_uri": "https://localhost:8080/"
        },
        "id": "bjZq_5ldloe9",
        "outputId": "5a35e646-640a-425c-b948-b00c6df17434"
      },
      "execution_count": null,
      "outputs": [
        {
          "output_type": "stream",
          "name": "stdout",
          "text": [
            "enter number 13\n",
            "number is not divisible by 2\n"
          ]
        }
      ]
    },
    {
      "cell_type": "markdown",
      "source": [
        "DAY 2"
      ],
      "metadata": {
        "id": "QgVN-KjnDILx"
      }
    },
    {
      "cell_type": "code",
      "source": [
        "#string indexing and slicing\n",
        "#python allow data access from both side lhs or rhs\n",
        "a=\"RAJASTHAN\"\n",
        "# 0,1,2,3 .....(+ve index)\n",
        "#-4,-3,-2,-(-ve index)\n",
        "print(a[0])\n",
        "print(a[1])\n",
        "print(a[2])\n",
        "print(a[3])\n",
        "print(a[4])\n",
        "print(a[5])\n",
        "print(a[6])\n",
        "print(a[-2])\n",
        "print(a[-1])"
      ],
      "metadata": {
        "colab": {
          "base_uri": "https://localhost:8080/"
        },
        "id": "g0gx_qdrm9Tk",
        "outputId": "c0d4f6d2-ebb4-485a-e5df-5bced97e6183"
      },
      "execution_count": null,
      "outputs": [
        {
          "output_type": "stream",
          "name": "stdout",
          "text": [
            "R\n",
            "A\n",
            "J\n",
            "A\n",
            "S\n",
            "T\n",
            "H\n",
            "A\n",
            "N\n"
          ]
        }
      ]
    },
    {
      "cell_type": "code",
      "source": [
        "#pyhton allows us to access data based on the index position\n",
        "#start:stop:[step=1]   (stop value is not included in this )\n",
        "a=\"DEVESH\"\n",
        "print(a[1:3])"
      ],
      "metadata": {
        "colab": {
          "base_uri": "https://localhost:8080/"
        },
        "id": "lKNsEQPyn2Eq",
        "outputId": "81e9204c-8b3a-4539-82d7-5e88602b57e7"
      },
      "execution_count": null,
      "outputs": [
        {
          "output_type": "stream",
          "name": "stdout",
          "text": [
            "EV\n"
          ]
        }
      ]
    },
    {
      "cell_type": "code",
      "source": [
        "#if i use colon then it will print complete data\n",
        "print(a[3:])\n",
        "print(a[:4])\n",
        "print(a[0:5:2])\n",
        "print(a[1:5:-1]) #will show no output because step size not in range it is -1\n",
        "print(a[-1:-4:-1])# should give -ve steping to add in negative index\n",
        "print(a[-4:-1:1])#-4+1=-3 in range\n",
        "print(a[-4:-1:-1])#it will not run because -4-1=-5 not in range\n"
      ],
      "metadata": {
        "colab": {
          "base_uri": "https://localhost:8080/"
        },
        "id": "XkD9E3eqo_1t",
        "outputId": "084ce6d4-3115-4731-d4a9-db7e99e47440"
      },
      "execution_count": null,
      "outputs": [
        {
          "output_type": "stream",
          "name": "stdout",
          "text": [
            "ESH\n",
            "DEVE\n",
            "DVS\n",
            "\n",
            "HSE\n",
            "VES\n"
          ]
        }
      ]
    },
    {
      "cell_type": "code",
      "source": [
        "#looping - used to perform repeatative task\n",
        "for i in range(1,5):\n",
        "  print(i)\n",
        "for i in range(1,9,2):\n",
        "  print(i)\n"
      ],
      "metadata": {
        "colab": {
          "base_uri": "https://localhost:8080/"
        },
        "id": "Ee5LwAVTuKe6",
        "outputId": "ee82913c-fdd3-4218-c579-5d8d211b7af6"
      },
      "execution_count": null,
      "outputs": [
        {
          "output_type": "stream",
          "name": "stdout",
          "text": [
            "1\n",
            "2\n",
            "3\n",
            "4\n",
            "1\n",
            "3\n",
            "5\n",
            "7\n"
          ]
        }
      ]
    },
    {
      "cell_type": "code",
      "source": [
        "for i in range (9,1,-1):\n",
        "  print(\"gandu\",i)"
      ],
      "metadata": {
        "colab": {
          "base_uri": "https://localhost:8080/"
        },
        "id": "WzOaaDX9vwaD",
        "outputId": "a4254223-be48-40e6-b13f-1b6a57bbe0d8"
      },
      "execution_count": null,
      "outputs": [
        {
          "output_type": "stream",
          "name": "stdout",
          "text": [
            "gandu 9\n",
            "gandu 8\n",
            "gandu 7\n",
            "gandu 6\n",
            "gandu 5\n",
            "gandu 4\n",
            "gandu 3\n",
            "gandu 2\n"
          ]
        }
      ]
    },
    {
      "cell_type": "code",
      "source": [
        "total=0\n",
        "for i in range(1,6):\n",
        "  total=total+i\n",
        "  print(\"dev\",i,total)"
      ],
      "metadata": {
        "colab": {
          "base_uri": "https://localhost:8080/"
        },
        "id": "TFiQJtD_v80Q",
        "outputId": "14cffe26-cb61-4629-d6f1-f780266467d3"
      },
      "execution_count": null,
      "outputs": [
        {
          "output_type": "stream",
          "name": "stdout",
          "text": [
            "dev 1 1\n",
            "dev 2 3\n",
            "dev 3 6\n",
            "dev 4 10\n",
            "dev 5 15\n"
          ]
        }
      ]
    },
    {
      "cell_type": "code",
      "source": [
        "z=0\n",
        "a=int(input(\"enter number \"))\n",
        "for i in range(1,a+1):\n",
        "  if(a%i==0):\n",
        "    z+=1\n",
        "print(\"total factors are \",z)\n",
        "if(z<=2):\n",
        "  print(\"this is a prime number  \")\n",
        "else:\n",
        "  print(\"not a prime number\")\n"
      ],
      "metadata": {
        "colab": {
          "base_uri": "https://localhost:8080/"
        },
        "id": "oO5TpYoOxHT0",
        "outputId": "3aa3163e-8240-4774-d1e7-4757866db530"
      },
      "execution_count": null,
      "outputs": [
        {
          "output_type": "stream",
          "name": "stdout",
          "text": [
            "enter number 28\n",
            "total factors are  6\n",
            "not a prime number\n"
          ]
        }
      ]
    },
    {
      "cell_type": "code",
      "source": [
        "total=0\n",
        "for i in range(97,57,-1):\n",
        "  if(i%2==0):\n",
        "    print(i)\n",
        "    total=total+i\n",
        "print (\"Total of all even numbers :\",total)"
      ],
      "metadata": {
        "colab": {
          "base_uri": "https://localhost:8080/"
        },
        "id": "kz6dp0gv0lGO",
        "outputId": "540d9c9d-c439-4ba3-f26c-f4d5cf1b7586"
      },
      "execution_count": null,
      "outputs": [
        {
          "output_type": "stream",
          "name": "stdout",
          "text": [
            "96\n",
            "94\n",
            "92\n",
            "90\n",
            "88\n",
            "86\n",
            "84\n",
            "82\n",
            "80\n",
            "78\n",
            "76\n",
            "74\n",
            "72\n",
            "70\n",
            "68\n",
            "66\n",
            "64\n",
            "62\n",
            "60\n",
            "58\n",
            "Total of all even numbers : 1540\n"
          ]
        }
      ]
    },
    {
      "cell_type": "code",
      "source": [
        "#while loop\n",
        "i=1\n",
        "while(i<10):\n",
        "  print(\"value of i is :\",i)\n",
        "  i+=1"
      ],
      "metadata": {
        "colab": {
          "base_uri": "https://localhost:8080/"
        },
        "id": "QTr9TWNH3m4u",
        "outputId": "0f79c438-05e2-49e8-d406-0d190015abab"
      },
      "execution_count": null,
      "outputs": [
        {
          "output_type": "stream",
          "name": "stdout",
          "text": [
            "value of i is : 1\n",
            "value of i is : 2\n",
            "value of i is : 3\n",
            "value of i is : 4\n",
            "value of i is : 5\n",
            "value of i is : 6\n",
            "value of i is : 7\n",
            "value of i is : 8\n",
            "value of i is : 9\n"
          ]
        }
      ]
    },
    {
      "cell_type": "code",
      "source": [
        "n=int(input(\"enter the number:\"))\n",
        "i=1\n",
        "while(i<n+1):\n",
        "  print(\"natural numbers are:\",i)\n",
        "  i+=1"
      ],
      "metadata": {
        "id": "HvPws77q4cDR",
        "colab": {
          "base_uri": "https://localhost:8080/"
        },
        "outputId": "927092f7-b0e4-4e6a-eaf8-cf14bbd1eec3"
      },
      "execution_count": null,
      "outputs": [
        {
          "output_type": "stream",
          "name": "stdout",
          "text": [
            "enter the number:1\n",
            "natural numbers are: 1\n"
          ]
        }
      ]
    },
    {
      "cell_type": "code",
      "source": [
        "n=int(input(\"Enter the number:\"))\n",
        "while(n>=1):\n",
        "  print(n)\n",
        "  n-=1"
      ],
      "metadata": {
        "colab": {
          "base_uri": "https://localhost:8080/"
        },
        "id": "u6x-rBYG-ajN",
        "outputId": "4fa15f75-5be0-42c1-8d9c-7646c6e0376c"
      },
      "execution_count": null,
      "outputs": [
        {
          "output_type": "stream",
          "name": "stdout",
          "text": [
            "Enter the number:20\n",
            "20\n",
            "19\n",
            "18\n",
            "17\n",
            "16\n",
            "15\n",
            "14\n",
            "13\n",
            "12\n",
            "11\n",
            "10\n",
            "9\n",
            "8\n",
            "7\n",
            "6\n",
            "5\n",
            "4\n",
            "3\n",
            "2\n",
            "1\n"
          ]
        }
      ]
    },
    {
      "cell_type": "code",
      "source": [
        "\n",
        "char='A'\n",
        "while(char<='Z'):\n",
        "  print(char)\n",
        "  char=chr(ord(char)+1)\n"
      ],
      "metadata": {
        "colab": {
          "base_uri": "https://localhost:8080/"
        },
        "id": "rtv6Q-2-2-D-",
        "outputId": "15a179ad-63d7-4b4a-9bab-ee028f02191c"
      },
      "execution_count": null,
      "outputs": [
        {
          "output_type": "stream",
          "name": "stdout",
          "text": [
            "A\n",
            "B\n",
            "C\n",
            "D\n",
            "E\n",
            "F\n",
            "G\n",
            "H\n",
            "I\n",
            "J\n",
            "K\n",
            "L\n",
            "M\n",
            "N\n",
            "O\n",
            "P\n",
            "Q\n",
            "R\n",
            "S\n",
            "T\n",
            "U\n",
            "V\n",
            "W\n",
            "X\n",
            "Y\n",
            "Z\n"
          ]
        }
      ]
    },
    {
      "cell_type": "code",
      "source": [
        "a=2\n",
        "while(a<100):\n",
        "  print(a)\n",
        "  a+=2\n",
        "\n"
      ],
      "metadata": {
        "colab": {
          "base_uri": "https://localhost:8080/"
        },
        "id": "V7WlK7ZE4RfF",
        "outputId": "d1ed499f-ac3c-4caa-81f6-07cd539d8515"
      },
      "execution_count": null,
      "outputs": [
        {
          "output_type": "stream",
          "name": "stdout",
          "text": [
            "2\n",
            "4\n",
            "6\n",
            "8\n",
            "10\n",
            "12\n",
            "14\n",
            "16\n",
            "18\n",
            "20\n",
            "22\n",
            "24\n",
            "26\n",
            "28\n",
            "30\n",
            "32\n",
            "34\n",
            "36\n",
            "38\n",
            "40\n",
            "42\n",
            "44\n",
            "46\n",
            "48\n",
            "50\n",
            "52\n",
            "54\n",
            "56\n",
            "58\n",
            "60\n",
            "62\n",
            "64\n",
            "66\n",
            "68\n",
            "70\n",
            "72\n",
            "74\n",
            "76\n",
            "78\n",
            "80\n",
            "82\n",
            "84\n",
            "86\n",
            "88\n",
            "90\n",
            "92\n",
            "94\n",
            "96\n",
            "98\n"
          ]
        }
      ]
    },
    {
      "cell_type": "markdown",
      "source": [
        "ASSIGNMENT 2"
      ],
      "metadata": {
        "id": "H95p0_F3DiF4"
      }
    },
    {
      "cell_type": "code",
      "source": [
        "n=int(input(\"enter the number:\"))\n",
        "a=1\n",
        "sum=0\n",
        "while(a<=n):\n",
        "  if(a%2!=0):\n",
        "    sum=sum+a\n",
        "  a+=1\n",
        "print(sum,\" is the sum of all odd numbers in between\")\n"
      ],
      "metadata": {
        "colab": {
          "base_uri": "https://localhost:8080/"
        },
        "id": "h9Hq_1fp7ZGI",
        "outputId": "c62197d5-13a4-4431-a053-c9448d76fa38"
      },
      "execution_count": null,
      "outputs": [
        {
          "output_type": "stream",
          "name": "stdout",
          "text": [
            "enter the number:2375\n",
            "1411344  is the sum of all odd numbers in between\n"
          ]
        }
      ]
    },
    {
      "cell_type": "code",
      "source": [
        "#count digits\n",
        "n=int(input(\"Enter any number \"))\n",
        "a=0\n",
        "while(n!=0):\n",
        "  n//=10\n",
        "  a+=1\n",
        "print(a)\n",
        "\n"
      ],
      "metadata": {
        "colab": {
          "base_uri": "https://localhost:8080/"
        },
        "id": "XsvcTKDDeW1Z",
        "outputId": "84c0e73f-5636-47e2-d3ae-63d0c1dbc677"
      },
      "execution_count": null,
      "outputs": [
        {
          "output_type": "stream",
          "name": "stdout",
          "text": [
            "Enter any number 1434274\n",
            "7\n"
          ]
        }
      ]
    },
    {
      "cell_type": "code",
      "source": [
        "#sum of digits of number\n",
        "n=int(input(\"Enter any number \"))\n",
        "a=0\n",
        "while(n!=0):\n",
        "  a+=n%10\n",
        "  n//=10\n",
        "print(a)"
      ],
      "metadata": {
        "colab": {
          "base_uri": "https://localhost:8080/"
        },
        "id": "e236qpjhiU1I",
        "outputId": "2cbd615d-8111-41ad-e79c-3999268d3828"
      },
      "execution_count": null,
      "outputs": [
        {
          "output_type": "stream",
          "name": "stdout",
          "text": [
            "Enter any number 5264383\n",
            "3\n",
            "8\n",
            "3\n",
            "4\n",
            "6\n",
            "2\n",
            "5\n"
          ]
        }
      ]
    },
    {
      "cell_type": "code",
      "source": [
        "#PRINT 1st and last digit\n",
        "n=int(input(\"Enter any number \"))\n",
        "f=n%10\n",
        "while(n>=10):\n",
        "  n//=10\n",
        "print(n,f)\n",
        "print(n+f)\n"
      ],
      "metadata": {
        "colab": {
          "base_uri": "https://localhost:8080/"
        },
        "id": "dZh_Zmd4nDQ1",
        "outputId": "418f51ff-f656-48c9-dd25-d1714546d041"
      },
      "execution_count": null,
      "outputs": [
        {
          "output_type": "stream",
          "name": "stdout",
          "text": [
            "Enter any number 23323\n",
            "2 3\n",
            "5\n"
          ]
        }
      ]
    },
    {
      "cell_type": "code",
      "source": [
        "#sum of digits of number reverse\n",
        "n=int(input(\"Enter any number \"))\n",
        "a=0\n",
        "while(n!=0):\n",
        "  a=a*10+n%10\n",
        "  n//=10\n",
        "print(a)\n"
      ],
      "metadata": {
        "colab": {
          "base_uri": "https://localhost:8080/"
        },
        "id": "TBvebyZXtqH6",
        "outputId": "c23a3c53-adb0-4f2c-a654-0be6103af35d"
      },
      "execution_count": null,
      "outputs": [
        {
          "output_type": "stream",
          "name": "stdout",
          "text": [
            "Enter any number 5647\n",
            "7465\n"
          ]
        }
      ]
    },
    {
      "cell_type": "code",
      "source": [
        "#to find the power of a number using for loop"
      ],
      "metadata": {
        "id": "glgk-WHEVVve"
      },
      "execution_count": null,
      "outputs": []
    },
    {
      "cell_type": "code",
      "source": [
        "#to print top 30 numbers divisivble by 2 and 6\n",
        "a=0\n",
        "num=1\n",
        "while(a<30):\n",
        "  if(num%2==0 and num%6==0):\n",
        "    print(\"number divisibl by 2 and 6 is :\",num)\n",
        "    a+=1\n",
        "  num+=1\n"
      ],
      "metadata": {
        "colab": {
          "base_uri": "https://localhost:8080/"
        },
        "id": "Z8IZ76MOud7H",
        "outputId": "5ea285b5-4be5-48c2-b431-3890f6f99e4d"
      },
      "execution_count": null,
      "outputs": [
        {
          "output_type": "stream",
          "name": "stdout",
          "text": [
            "number divisibl by 2 and 6 is : 6\n",
            "number divisibl by 2 and 6 is : 12\n",
            "number divisibl by 2 and 6 is : 18\n",
            "number divisibl by 2 and 6 is : 24\n",
            "number divisibl by 2 and 6 is : 30\n",
            "number divisibl by 2 and 6 is : 36\n",
            "number divisibl by 2 and 6 is : 42\n",
            "number divisibl by 2 and 6 is : 48\n",
            "number divisibl by 2 and 6 is : 54\n",
            "number divisibl by 2 and 6 is : 60\n",
            "number divisibl by 2 and 6 is : 66\n",
            "number divisibl by 2 and 6 is : 72\n",
            "number divisibl by 2 and 6 is : 78\n",
            "number divisibl by 2 and 6 is : 84\n",
            "number divisibl by 2 and 6 is : 90\n",
            "number divisibl by 2 and 6 is : 96\n",
            "number divisibl by 2 and 6 is : 102\n",
            "number divisibl by 2 and 6 is : 108\n",
            "number divisibl by 2 and 6 is : 114\n",
            "number divisibl by 2 and 6 is : 120\n",
            "number divisibl by 2 and 6 is : 126\n",
            "number divisibl by 2 and 6 is : 132\n",
            "number divisibl by 2 and 6 is : 138\n",
            "number divisibl by 2 and 6 is : 144\n",
            "number divisibl by 2 and 6 is : 150\n",
            "number divisibl by 2 and 6 is : 156\n",
            "number divisibl by 2 and 6 is : 162\n",
            "number divisibl by 2 and 6 is : 168\n",
            "number divisibl by 2 and 6 is : 174\n",
            "number divisibl by 2 and 6 is : 180\n"
          ]
        }
      ]
    },
    {
      "cell_type": "code",
      "source": [
        "#this is called as 2 pointer approach\n",
        "#by using indicator variable\n",
        "#here ind is indicator variable\n",
        "data=str(input(\"Enter any name or number \"))\n",
        "start=0\n",
        "ind=0\n",
        "end=len(data)-1\n",
        "while(start<len(data)):\n",
        "  if(data[start]!=data[end]):\n",
        "    print(data,\"is not palindrome\")\n",
        "    ind=5\n",
        "    break\n",
        "  print(data[start],data[end])\n",
        "  start+=1\n",
        "  end-=1\n",
        "if(ind==0):\n",
        "  print(data,\"is Palindrome\")\n"
      ],
      "metadata": {
        "colab": {
          "base_uri": "https://localhost:8080/"
        },
        "id": "tmuKR_Tdx2sa",
        "outputId": "cfcfb338-3dc9-4215-fae2-4ce4206dbb17"
      },
      "execution_count": null,
      "outputs": [
        {
          "output_type": "stream",
          "name": "stdout",
          "text": [
            "Enter any name or number raja\n",
            "raja is not palindrome\n"
          ]
        }
      ]
    },
    {
      "cell_type": "code",
      "source": [
        "#ASCII is unique standard\n",
        "ord(\"A\") #is used to print the ascii number of letter\n",
        "chr(65)#is used to print the alphabet from ascii code"
      ],
      "metadata": {
        "colab": {
          "base_uri": "https://localhost:8080/",
          "height": 35
        },
        "id": "Jkim9eKP4Uky",
        "outputId": "977d0831-09f8-44fa-a3bf-b814eaa48e83"
      },
      "execution_count": null,
      "outputs": [
        {
          "output_type": "execute_result",
          "data": {
            "text/plain": [
              "'A'"
            ],
            "application/vnd.google.colaboratory.intrinsic+json": {
              "type": "string"
            }
          },
          "metadata": {},
          "execution_count": 38
        }
      ]
    },
    {
      "cell_type": "code",
      "source": [
        "# LCM of two numbers\n",
        "#find largest no.\n",
        "#LCM should be largest number or more than largest number\n",
        "#increase by 1 untill we get the common multiplier\n",
        "a=int(input(\"Enter 1st number:\"))\n",
        "b=int(input(\"enter 2nd number:\"))\n",
        "if(a>b):\n",
        "  big=a\n",
        "else:\n",
        "  big=b\n",
        "while(True):\n",
        "  if(big%a==0 and big%b==0):\n",
        "    print(\"the LCM is\",big)\n",
        "    break\n",
        "  else:\n",
        "    big+=1\n"
      ],
      "metadata": {
        "colab": {
          "base_uri": "https://localhost:8080/"
        },
        "id": "PwJyXqE467ud",
        "outputId": "ad779e97-d204-4c35-af50-e4a84ff07b61"
      },
      "execution_count": null,
      "outputs": [
        {
          "output_type": "stream",
          "name": "stdout",
          "text": [
            "Enter 1st number:12\n",
            "enter 2nd number:7\n",
            "the LCM is 84\n"
          ]
        }
      ]
    },
    {
      "cell_type": "code",
      "source": [
        "from os import urandom\n",
        "#LIST\n",
        "#list is a datatype used to store multiple values\n",
        "#and all these values can be of any type\n",
        "#List is a mutable datatype\n",
        "\n",
        "urlist=[12,13,14,15,16,\"dev\",\"rajuLIC\"]\n",
        "print(urlist[6])"
      ],
      "metadata": {
        "colab": {
          "base_uri": "https://localhost:8080/"
        },
        "id": "k0_3Jmp79VWQ",
        "outputId": "9963be68-6d4e-4cb7-bde5-7df2dcbcda4c"
      },
      "execution_count": null,
      "outputs": [
        {
          "output_type": "stream",
          "name": "stdout",
          "text": [
            "rajuLIC\n"
          ]
        }
      ]
    },
    {
      "cell_type": "code",
      "source": [
        "from typing_extensions import LiteralString\n",
        "#to change the value of list\n",
        "#pop deletes the data\n",
        "#append adds the data in list\n",
        "urlist=[12,13,14,15,16,\"dev\",\"rajuLIC\"]\n",
        "print(urlist[6])\n",
        "urlist[3]=26\n",
        "urlist.append(\"chaiwala\")\n",
        "urlist.pop()  #deletes from last\n",
        "print(urlist)"
      ],
      "metadata": {
        "colab": {
          "base_uri": "https://localhost:8080/"
        },
        "id": "IvkgpZy3-Tjv",
        "outputId": "7e2cc0fd-2225-4276-97ee-ea5b750e11d6"
      },
      "execution_count": null,
      "outputs": [
        {
          "output_type": "stream",
          "name": "stdout",
          "text": [
            "rajuLIC\n",
            "[12, 13, 14, 26, 16, 'dev', 'rajuLIC']\n"
          ]
        }
      ]
    },
    {
      "cell_type": "code",
      "source": [
        "l=[12,12,23,43,21] #use help to get help\n",
        "print(help(l))\n"
      ],
      "metadata": {
        "colab": {
          "base_uri": "https://localhost:8080/"
        },
        "id": "wBhElGwV_8ZX",
        "outputId": "cec1b919-2144-4f50-d96e-a9fe90e98f9c"
      },
      "execution_count": null,
      "outputs": [
        {
          "output_type": "stream",
          "name": "stdout",
          "text": [
            "Help on list object:\n",
            "\n",
            "class list(object)\n",
            " |  list(iterable=(), /)\n",
            " |  \n",
            " |  Built-in mutable sequence.\n",
            " |  \n",
            " |  If no argument is given, the constructor creates a new empty list.\n",
            " |  The argument must be an iterable if specified.\n",
            " |  \n",
            " |  Methods defined here:\n",
            " |  \n",
            " |  __add__(self, value, /)\n",
            " |      Return self+value.\n",
            " |  \n",
            " |  __contains__(self, key, /)\n",
            " |      Return key in self.\n",
            " |  \n",
            " |  __delitem__(self, key, /)\n",
            " |      Delete self[key].\n",
            " |  \n",
            " |  __eq__(self, value, /)\n",
            " |      Return self==value.\n",
            " |  \n",
            " |  __ge__(self, value, /)\n",
            " |      Return self>=value.\n",
            " |  \n",
            " |  __getattribute__(self, name, /)\n",
            " |      Return getattr(self, name).\n",
            " |  \n",
            " |  __getitem__(...)\n",
            " |      x.__getitem__(y) <==> x[y]\n",
            " |  \n",
            " |  __gt__(self, value, /)\n",
            " |      Return self>value.\n",
            " |  \n",
            " |  __iadd__(self, value, /)\n",
            " |      Implement self+=value.\n",
            " |  \n",
            " |  __imul__(self, value, /)\n",
            " |      Implement self*=value.\n",
            " |  \n",
            " |  __init__(self, /, *args, **kwargs)\n",
            " |      Initialize self.  See help(type(self)) for accurate signature.\n",
            " |  \n",
            " |  __iter__(self, /)\n",
            " |      Implement iter(self).\n",
            " |  \n",
            " |  __le__(self, value, /)\n",
            " |      Return self<=value.\n",
            " |  \n",
            " |  __len__(self, /)\n",
            " |      Return len(self).\n",
            " |  \n",
            " |  __lt__(self, value, /)\n",
            " |      Return self<value.\n",
            " |  \n",
            " |  __mul__(self, value, /)\n",
            " |      Return self*value.\n",
            " |  \n",
            " |  __ne__(self, value, /)\n",
            " |      Return self!=value.\n",
            " |  \n",
            " |  __repr__(self, /)\n",
            " |      Return repr(self).\n",
            " |  \n",
            " |  __reversed__(self, /)\n",
            " |      Return a reverse iterator over the list.\n",
            " |  \n",
            " |  __rmul__(self, value, /)\n",
            " |      Return value*self.\n",
            " |  \n",
            " |  __setitem__(self, key, value, /)\n",
            " |      Set self[key] to value.\n",
            " |  \n",
            " |  __sizeof__(self, /)\n",
            " |      Return the size of the list in memory, in bytes.\n",
            " |  \n",
            " |  append(self, object, /)\n",
            " |      Append object to the end of the list.\n",
            " |  \n",
            " |  clear(self, /)\n",
            " |      Remove all items from list.\n",
            " |  \n",
            " |  copy(self, /)\n",
            " |      Return a shallow copy of the list.\n",
            " |  \n",
            " |  count(self, value, /)\n",
            " |      Return number of occurrences of value.\n",
            " |  \n",
            " |  extend(self, iterable, /)\n",
            " |      Extend list by appending elements from the iterable.\n",
            " |  \n",
            " |  index(self, value, start=0, stop=9223372036854775807, /)\n",
            " |      Return first index of value.\n",
            " |      \n",
            " |      Raises ValueError if the value is not present.\n",
            " |  \n",
            " |  insert(self, index, object, /)\n",
            " |      Insert object before index.\n",
            " |  \n",
            " |  pop(self, index=-1, /)\n",
            " |      Remove and return item at index (default last).\n",
            " |      \n",
            " |      Raises IndexError if list is empty or index is out of range.\n",
            " |  \n",
            " |  remove(self, value, /)\n",
            " |      Remove first occurrence of value.\n",
            " |      \n",
            " |      Raises ValueError if the value is not present.\n",
            " |  \n",
            " |  reverse(self, /)\n",
            " |      Reverse *IN PLACE*.\n",
            " |  \n",
            " |  sort(self, /, *, key=None, reverse=False)\n",
            " |      Sort the list in ascending order and return None.\n",
            " |      \n",
            " |      The sort is in-place (i.e. the list itself is modified) and stable (i.e. the\n",
            " |      order of two equal elements is maintained).\n",
            " |      \n",
            " |      If a key function is given, apply it once to each list item and sort them,\n",
            " |      ascending or descending, according to their function values.\n",
            " |      \n",
            " |      The reverse flag can be set to sort in descending order.\n",
            " |  \n",
            " |  ----------------------------------------------------------------------\n",
            " |  Class methods defined here:\n",
            " |  \n",
            " |  __class_getitem__(...)\n",
            " |      See PEP 585\n",
            " |  \n",
            " |  ----------------------------------------------------------------------\n",
            " |  Static methods defined here:\n",
            " |  \n",
            " |  __new__(*args, **kwargs)\n",
            " |      Create and return a new object.  See help(type) for accurate signature.\n",
            " |  \n",
            " |  ----------------------------------------------------------------------\n",
            " |  Data and other attributes defined here:\n",
            " |  \n",
            " |  __hash__ = None\n",
            "\n",
            "None\n"
          ]
        }
      ]
    },
    {
      "cell_type": "code",
      "source": [
        "#loop in list\n",
        "g=[\"15\",\"grand\",\"16\",\"father\"]\n",
        "for i in g:\n",
        "  print(i)"
      ],
      "metadata": {
        "colab": {
          "base_uri": "https://localhost:8080/"
        },
        "id": "2eJBXiVGAMOk",
        "outputId": "88c34a88-8e9d-4a04-a04d-eac90c80440a"
      },
      "execution_count": null,
      "outputs": [
        {
          "output_type": "stream",
          "name": "stdout",
          "text": [
            "15\n",
            "grand\n",
            "16\n",
            "father\n"
          ]
        }
      ]
    },
    {
      "cell_type": "code",
      "source": [
        "hut=[1,2,3,4,5]\n",
        "for i in range(0,2):\n",
        "  print(i,hut[i])"
      ],
      "metadata": {
        "colab": {
          "base_uri": "https://localhost:8080/"
        },
        "id": "ecrBuTZUBHMd",
        "outputId": "66adcf29-c802-4b6b-94f2-ee772a077fc2"
      },
      "execution_count": null,
      "outputs": [
        {
          "output_type": "stream",
          "name": "stdout",
          "text": [
            "0 1\n",
            "1 2\n"
          ]
        }
      ]
    },
    {
      "cell_type": "code",
      "source": [
        "#to find the power of a number using for loop\n",
        "a=int(input(\"enter a number \"))\n",
        "b=int(input(\"enter the power of the number\"))\n",
        "result=1\n",
        "for _ in range(b):\n",
        "  result=result*a\n",
        "print(a,\"raise to the power\",b,\"is:\",result)"
      ],
      "metadata": {
        "colab": {
          "base_uri": "https://localhost:8080/"
        },
        "id": "ncIMUXZTD5pe",
        "outputId": "5aeb4cd6-3b9b-49b7-882a-2db498110469"
      },
      "execution_count": null,
      "outputs": [
        {
          "output_type": "stream",
          "name": "stdout",
          "text": [
            "enter a number 10\n",
            "enter the power of the number5\n",
            "10 raise to the power 5 is: 100000\n"
          ]
        }
      ]
    },
    {
      "cell_type": "code",
      "source": [
        "#all the factors of  number\n",
        "a=int(input(\"Enter the number:\"))\n",
        "b=1\n",
        "for b in range(b,a+1):\n",
        "  if(a%b==0):\n",
        "    print(b)\n",
        "    b+=1"
      ],
      "metadata": {
        "colab": {
          "base_uri": "https://localhost:8080/"
        },
        "id": "ugSPk-srIL0P",
        "outputId": "6bff81b1-00d0-44aa-c89d-9046fdffc9c2"
      },
      "execution_count": null,
      "outputs": [
        {
          "output_type": "stream",
          "name": "stdout",
          "text": [
            "Enter the number:46\n",
            "1\n",
            "2\n",
            "23\n",
            "46\n"
          ]
        }
      ]
    },
    {
      "cell_type": "code",
      "source": [
        "#to calculate the factorial of a number\n",
        "a=int(input(\"enter the number:\"))\n",
        "b=1\n",
        "for i in range(1,a+1):\n",
        "  b=b*i\n",
        "print(b)"
      ],
      "metadata": {
        "colab": {
          "base_uri": "https://localhost:8080/"
        },
        "id": "fTT-N5bXMjIm",
        "outputId": "9f73f358-0d73-4b82-e04a-05be432a91ac"
      },
      "execution_count": null,
      "outputs": [
        {
          "output_type": "stream",
          "name": "stdout",
          "text": [
            "enter the number:4\n",
            "24\n"
          ]
        }
      ]
    },
    {
      "cell_type": "code",
      "source": [
        "#to check the number is prime or not\n",
        "a=int(input(\"enter the number:\"))\n",
        "b=0\n",
        "\n",
        "if a <= 1:\n",
        "  print(a, \"is not a prime number\")\n",
        "else:\n",
        "  for i in range(1, a + 1):\n",
        "    if a % i == 0:\n",
        "      b += 1\n",
        "\n",
        "  if b == 2:\n",
        "    print(a, \"is a prime number\")\n",
        "  else:\n",
        "    print(a, \"is not a prime number\")"
      ],
      "metadata": {
        "colab": {
          "base_uri": "https://localhost:8080/"
        },
        "id": "DLBsBJf6Pk9F",
        "outputId": "a45f73ef-2eb1-49b4-9cc2-6222ff2a5bff"
      },
      "execution_count": null,
      "outputs": [
        {
          "output_type": "stream",
          "name": "stdout",
          "text": [
            "enter the number:29\n",
            "29 is a prime number\n"
          ]
        }
      ]
    },
    {
      "cell_type": "code",
      "source": [
        "#LCM of a two numbers\n",
        "a=int(input(\"enter the number:\"))\n",
        "b=int(input(\"enter the number:\"))\n",
        "if(a>b):\n",
        "  big=a\n",
        "else:\n",
        "  big=b\n",
        "while(True):\n",
        "  if(big%a==0 and big%b==0):\n",
        "    print(big,\"is the LCM of a and b\")\n",
        "    break\n",
        "  else:\n",
        "    big+=1"
      ],
      "metadata": {
        "colab": {
          "base_uri": "https://localhost:8080/"
        },
        "id": "0Fp95YmOTl1Y",
        "outputId": "9a49cce1-0dc5-4a7b-828d-40caeca3ccdd"
      },
      "execution_count": null,
      "outputs": [
        {
          "output_type": "stream",
          "name": "stdout",
          "text": [
            "enter the number:4\n",
            "enter the number:18\n",
            "36 is the LCM of a and b\n"
          ]
        }
      ]
    },
    {
      "cell_type": "code",
      "source": [
        "#print all prime numbers between 1 to n\n",
        "a=int(input(\"enter the number:\"))\n",
        "for b in range(2,a+1):\n"
      ],
      "metadata": {
        "id": "DF1D8ZaaVjFM"
      },
      "execution_count": null,
      "outputs": []
    },
    {
      "cell_type": "markdown",
      "source": [
        "DAY 4"
      ],
      "metadata": {
        "id": "hSAbGemdDqSa"
      }
    },
    {
      "cell_type": "code",
      "source": [
        "mylist=[10,20,30,41,57]\n",
        "max=mylist[0]\n",
        "for i in range(0,5):\n",
        "  if(mylist[i]>max):\n",
        "    max=mylist[i]\n",
        "print(mylist[i],max)\n"
      ],
      "metadata": {
        "colab": {
          "base_uri": "https://localhost:8080/"
        },
        "id": "HlnO46F5Dr2Z",
        "outputId": "4ef0f367-8abe-457a-ef2b-5d43267f48d9"
      },
      "execution_count": null,
      "outputs": [
        {
          "output_type": "stream",
          "name": "stdout",
          "text": [
            "57 57\n"
          ]
        }
      ]
    },
    {
      "cell_type": "code",
      "source": [
        "mylist=[10,20,30,59,50]\n",
        "large=mylist[0]\n",
        "seclarge=0\n",
        "for i in range(0,5):\n",
        "  if(mylist[i]>large):\n",
        "    seclarge=large\n",
        "    large=mylist[i]\n",
        "  elif(mylist[i]>seclarge):\n",
        "    seclarge=mylist[i]\n",
        "print(seclarge,\"second large number\",)\n",
        "print(large,\"large number\",)"
      ],
      "metadata": {
        "colab": {
          "base_uri": "https://localhost:8080/"
        },
        "id": "-Cn9oxwhIGSW",
        "outputId": "4dddd33a-45db-47e2-be23-e522f2b537cb"
      },
      "execution_count": null,
      "outputs": [
        {
          "output_type": "stream",
          "name": "stdout",
          "text": [
            "50 second large number\n",
            "59 large number\n"
          ]
        }
      ]
    },
    {
      "cell_type": "code",
      "source": [
        "#NESTED LOOP\n",
        "for i in range(1,5):\n",
        "  print(\"baccha=>\",i)\n",
        "  for k in range(1,i+1):\n",
        "    print(\"copy check!!\",k , end=\",\")\n",
        "  print(\"\")"
      ],
      "metadata": {
        "colab": {
          "base_uri": "https://localhost:8080/"
        },
        "id": "A7TnUa-6K22I",
        "outputId": "279e459d-a70d-4d8a-8e44-4944a86fc598"
      },
      "execution_count": null,
      "outputs": [
        {
          "output_type": "stream",
          "name": "stdout",
          "text": [
            "baccha=> 1\n",
            "copy check!! 1,\n",
            "baccha=> 2\n",
            "copy check!! 1,copy check!! 2,\n",
            "baccha=> 3\n",
            "copy check!! 1,copy check!! 2,copy check!! 3,\n",
            "baccha=> 4\n",
            "copy check!! 1,copy check!! 2,copy check!! 3,copy check!! 4,\n"
          ]
        }
      ]
    },
    {
      "cell_type": "code",
      "source": [
        "for i in range(1,5):\n",
        "  print(\"baccha=>\",i)\n",
        "  for k in range(1,6-i):\n",
        "    print(\"copy check!!\",k , end=\",\")\n",
        "  print(\"\")"
      ],
      "metadata": {
        "colab": {
          "base_uri": "https://localhost:8080/"
        },
        "id": "gAZlo5PmPD58",
        "outputId": "5de0999c-6237-4699-89a6-cf779270dcd8"
      },
      "execution_count": null,
      "outputs": [
        {
          "output_type": "stream",
          "name": "stdout",
          "text": [
            "baccha=> 1\n",
            "copy check!! 1,copy check!! 2,copy check!! 3,copy check!! 4,\n",
            "baccha=> 2\n",
            "copy check!! 1,copy check!! 2,copy check!! 3,\n",
            "baccha=> 3\n",
            "copy check!! 1,copy check!! 2,\n",
            "baccha=> 4\n",
            "copy check!! 1,\n"
          ]
        }
      ]
    },
    {
      "cell_type": "code",
      "source": [
        "for i in range (1,5):\n",
        "  for j in range(1,5-i+1):\n",
        "    print(\"*\",end=\"\")\n",
        "  print()"
      ],
      "metadata": {
        "colab": {
          "base_uri": "https://localhost:8080/"
        },
        "id": "UtelwjV8PuA2",
        "outputId": "19921afd-3f62-4911-ff3f-8d28994f80ea"
      },
      "execution_count": null,
      "outputs": [
        {
          "output_type": "stream",
          "name": "stdout",
          "text": [
            "****\n",
            "***\n",
            "**\n",
            "*\n"
          ]
        }
      ]
    },
    {
      "cell_type": "code",
      "source": [
        "for i in range (1,5):\n",
        "  for j in range(1,5):\n",
        "    print(j,end=\"\")\n",
        "  print()"
      ],
      "metadata": {
        "colab": {
          "base_uri": "https://localhost:8080/"
        },
        "id": "q60pqT8pQlH2",
        "outputId": "2fd5bb48-e117-4a4f-b186-2ab21d4df625"
      },
      "execution_count": null,
      "outputs": [
        {
          "output_type": "stream",
          "name": "stdout",
          "text": [
            "1234\n",
            "1234\n",
            "1234\n",
            "1234\n"
          ]
        }
      ]
    },
    {
      "cell_type": "code",
      "source": [
        "var=1\n",
        "for i in range (1,5):\n",
        "  for j in range(1,i+1):\n",
        "    print(var,end=\"\")\n",
        "    var+=1\n",
        "  print()"
      ],
      "metadata": {
        "colab": {
          "base_uri": "https://localhost:8080/"
        },
        "id": "GnRB86ODRcc4",
        "outputId": "580c9d73-9959-4985-f119-c614ea115c0f"
      },
      "execution_count": null,
      "outputs": [
        {
          "output_type": "stream",
          "name": "stdout",
          "text": [
            "1\n",
            "23\n",
            "456\n",
            "78910\n"
          ]
        }
      ]
    },
    {
      "cell_type": "code",
      "source": [
        "var=9\n",
        "for i in range (1,5):\n",
        "  for j in range(1,5-i):\n",
        "    print(var,end=\"\")\n",
        "    var-=1\n",
        "  print()"
      ],
      "metadata": {
        "colab": {
          "base_uri": "https://localhost:8080/"
        },
        "id": "GX2CrMAhSv63",
        "outputId": "7fc9fee3-fc96-456f-8b4d-9b5ef82b620f"
      },
      "execution_count": null,
      "outputs": [
        {
          "output_type": "stream",
          "name": "stdout",
          "text": [
            "987\n",
            "65\n",
            "4\n",
            "\n"
          ]
        }
      ]
    },
    {
      "cell_type": "code",
      "source": [
        "for i in range (1,5):\n",
        "  v=ord('A')\n",
        "  for j in range(1,i+1):\n",
        "    print(chr(v),end=\"\")\n",
        "    v+=1\n",
        "  print()"
      ],
      "metadata": {
        "colab": {
          "base_uri": "https://localhost:8080/"
        },
        "id": "nr0l_zS2TEfQ",
        "outputId": "88078b9f-2434-490b-86c5-0faa6a216010"
      },
      "execution_count": null,
      "outputs": [
        {
          "output_type": "stream",
          "name": "stdout",
          "text": [
            "A\n",
            "AB\n",
            "ABC\n",
            "ABCD\n"
          ]
        }
      ]
    },
    {
      "cell_type": "code",
      "source": [
        "m=[10,20,30,80]\n",
        "for i in range(0,4):\n",
        "  for j in range(i+1,4):\n",
        "\n",
        "    if(m[i]+m[j]==90):\n",
        "      print(m[i],m[j])\n",
        "      print(m[i],\"and\",m[j],\"is the number makes 90\")\n",
        "    else:\n",
        "      print(\"no number makes 90\")\n",
        "  print()"
      ],
      "metadata": {
        "colab": {
          "base_uri": "https://localhost:8080/"
        },
        "id": "2GtexLL4Vg3d",
        "outputId": "e860df82-f027-42c6-998d-7966d27e410c"
      },
      "execution_count": null,
      "outputs": [
        {
          "output_type": "stream",
          "name": "stdout",
          "text": [
            "no number makes 90\n",
            "no number makes 90\n",
            "10 80\n",
            "10 and 80 is the number makes 90\n",
            "\n",
            "no number makes 90\n",
            "no number makes 90\n",
            "\n",
            "no number makes 90\n",
            "\n",
            "\n"
          ]
        }
      ]
    },
    {
      "cell_type": "markdown",
      "source": [
        "DAY 5\n"
      ],
      "metadata": {
        "id": "kcoo9hRoKRRX"
      }
    },
    {
      "cell_type": "code",
      "source": [
        "#if we delete any element in list then it will affect every next element which leads to time taking and more process\n",
        "#to avoid this we use a datatype in pyhton that is dictionary\n",
        "#Dictionary\n",
        "#data store key and value pair\n",
        "#key- unique identifier\n",
        "#value:data\n",
        "#no index position \"\n",
        "\n",
        "\n",
        "m={0:\"raj\",1:\"raju\"}\n",
        "print(m[1])"
      ],
      "metadata": {
        "colab": {
          "base_uri": "https://localhost:8080/"
        },
        "id": "q7lUaMNpKvhx",
        "outputId": "ee4e2208-4418-4cd8-8e92-2d9911d92c59"
      },
      "execution_count": null,
      "outputs": [
        {
          "output_type": "stream",
          "name": "stdout",
          "text": [
            "raju\n"
          ]
        }
      ]
    },
    {
      "cell_type": "code",
      "source": [
        "num={0:\"me\",1:\"i\",2:\"myself\"}\n",
        "num[2]=\"tera papa\" #update\n",
        "num[\"papa\"]=3   #insert\n",
        "print(num)\n",
        "\n",
        "num.pop(2)   #delete\n",
        "print(num)"
      ],
      "metadata": {
        "colab": {
          "base_uri": "https://localhost:8080/"
        },
        "id": "8ZkBl50rMeEY",
        "outputId": "8c621219-30a9-46f1-967a-8fdbd249b721"
      },
      "execution_count": null,
      "outputs": [
        {
          "output_type": "stream",
          "name": "stdout",
          "text": [
            "{0: 'me', 1: 'i', 2: 'tera papa', 'papa': 3}\n",
            "{0: 'me', 1: 'i', 'papa': 3}\n"
          ]
        }
      ]
    },
    {
      "cell_type": "code",
      "source": [
        "dic={\"sum\":59}\n",
        "dic[\"sum\"]\n",
        "dic[\"sum\"]=dic[\"sum\"]+7  #to add something to the dictionary\n",
        "print(dic)"
      ],
      "metadata": {
        "colab": {
          "base_uri": "https://localhost:8080/"
        },
        "id": "jYA8xV18Nyj5",
        "outputId": "f7fb7ef4-a88f-406d-bf82-ab8846f8992e"
      },
      "execution_count": null,
      "outputs": [
        {
          "output_type": "stream",
          "name": "stdout",
          "text": [
            "{'sum': 66}\n"
          ]
        }
      ]
    },
    {
      "cell_type": "code",
      "source": [
        "d={\"total\":0}\n",
        "for i in range(45,56):\n",
        "  d[\"total\"]=d[\"total\"]+1\n",
        "print(d)"
      ],
      "metadata": {
        "colab": {
          "base_uri": "https://localhost:8080/"
        },
        "id": "OM139hziOXTr",
        "outputId": "f3741c0c-18dd-4c6f-ea77-1b58fa7ff4ea"
      },
      "execution_count": null,
      "outputs": [
        {
          "output_type": "stream",
          "name": "stdout",
          "text": [
            "{'total': 11}\n"
          ]
        }
      ]
    },
    {
      "cell_type": "code",
      "source": [
        "j=input(\"\")\n",
        "s={\"vowels\":0}\n",
        "for i in j:\n",
        "  if(i in \"aeiou\"):\n",
        "    print(i,\"is vowel\")\n",
        "    s['vowels']=s[\"vowels\"]+1\n",
        "print(s)"
      ],
      "metadata": {
        "id": "oI4gdaxlPEIq",
        "colab": {
          "base_uri": "https://localhost:8080/"
        },
        "outputId": "ef100f28-4374-46f4-dda4-96955ede2c0f"
      },
      "execution_count": null,
      "outputs": [
        {
          "output_type": "stream",
          "name": "stdout",
          "text": [
            "rahul\n",
            "a is vowel\n",
            "u is vowel\n",
            "{'vowels': 2}\n"
          ]
        }
      ]
    },
    {
      "cell_type": "code",
      "source": [
        "#enumerate is a function used to print the index as well as the value of any list or dictionary"
      ],
      "metadata": {
        "id": "w5YW6TpRRJGu"
      },
      "execution_count": null,
      "outputs": []
    },
    {
      "cell_type": "code",
      "source": [
        "list=[2,3,4,5,6,7]\n",
        "for i in enumerate(list):\n",
        "  print(i,i[0],i[1])"
      ],
      "metadata": {
        "colab": {
          "base_uri": "https://localhost:8080/"
        },
        "id": "88fUpUgwRplp",
        "outputId": "5a540b80-d8ab-445d-ebe3-d1de433f47db"
      },
      "execution_count": null,
      "outputs": [
        {
          "output_type": "stream",
          "name": "stdout",
          "text": [
            "(0, 2) 0 2\n",
            "(1, 3) 1 3\n",
            "(2, 4) 2 4\n",
            "(3, 5) 3 5\n",
            "(4, 6) 4 6\n",
            "(5, 7) 5 7\n"
          ]
        }
      ]
    },
    {
      "cell_type": "code",
      "source": [
        "#KBC project\n",
        "#Question => statement ,option:a,b,c,d  answer:B\n",
        "Question=[\n",
        "{\"question\":\"Who is Captain Cool?\",\n",
        " \"option\":[\"A.Michael Jackson\",\"B. V.Kohli\",\"C. Aishwarya rai\",\"D. MS Dhoni\"],\n",
        " \"answer\":\"D\"},\n",
        "{\"question\":\"Who is father of nation?\",\n",
        " \"option\":[\"A. BABA Ramdev\",\"B. Mahatma Gandhi\",\"C. Rahul Gandhi\",\"D. Narendra Modi ji\"],\n",
        " \"answer\":\"B\"},\n",
        " {\"question\":\"Who is GANDU?\",\n",
        " \"option\":[\"A.You\",\"B. Your college\",\"C. Your friends\",\"D. Your Bandi\"],\n",
        " \"answer\":\"A\"}\n",
        "]\n",
        "for i in Question:\n",
        "  print(i)"
      ],
      "metadata": {
        "id": "Ti1i3oltVfwx",
        "colab": {
          "base_uri": "https://localhost:8080/"
        },
        "outputId": "d822941a-3556-42e6-f09a-017a0cfd74ab"
      },
      "execution_count": null,
      "outputs": [
        {
          "output_type": "stream",
          "name": "stdout",
          "text": [
            "{'question': 'Who is Captain Cool?', 'option': ['A.Michael Jackson', 'B. V.Kohli', 'C. Aishwarya rai', 'D. MS Dhoni'], 'answer': 'D'}\n",
            "{'question': 'Who is father of nation?', 'option': ['A. BABA Ramdev', 'B. Mahatma Gandhi', 'C. Rahul Gandhi', 'D. Narendra Modi ji'], 'answer': 'B'}\n",
            "{'question': 'Who is GANDU?', 'option': ['A.You', 'B. Your college', 'C. Your friends', 'D. Your Bandi'], 'answer': 'A'}\n"
          ]
        }
      ]
    },
    {
      "cell_type": "code",
      "source": [
        "total=0\n",
        "amount=[100000000,10000000000,20000000000000000]\n",
        "for i,j in enumerate(Question):\n",
        "  print(f\"{i+1} prashna aapki screen par yeh raha {amount[i]} rupee ke liye\")\n",
        "  print(j[\"question\"])\n",
        "  for k in j[\"option\"]:\n",
        "    print(k)\n",
        "  answerde=input(\"Enter the option A,B,C,D--\").upper()\n",
        "  if(answerde==j[\"answer\"]):\n",
        "    total+=amount[i]\n",
        "    print(f\"Badhai ho aapne jeet liye Rs.{total}\")\n",
        "  else:\n",
        "    print(\"Galat Jawab gharpe jao\")\n",
        "    print(\"kul rashi\",total)\n",
        "    break"
      ],
      "metadata": {
        "colab": {
          "base_uri": "https://localhost:8080/"
        },
        "id": "8LcdHJtIWF7r",
        "outputId": "34d26abb-7a2c-4e26-ddeb-744818b21af1"
      },
      "execution_count": null,
      "outputs": [
        {
          "output_type": "stream",
          "name": "stdout",
          "text": [
            "1 prashna aapki screen par yeh raha 100000000 rupee ke liye\n",
            "Who is Captain Cool?\n",
            "A.Michael Jackson\n",
            "B. V.Kohli\n",
            "C. Aishwarya rai\n",
            "D. MS Dhoni\n",
            "Enter the option A,B,C,D--d\n",
            "Badhai ho aapne jeet liye Rs.100000000\n",
            "2 prashna aapki screen par yeh raha 10000000000 rupee ke liye\n",
            "Who is father of nation?\n",
            "A. BABA Ramdev\n",
            "B. Mahatma Gandhi\n",
            "C. Rahul Gandhi\n",
            "D. Narendra Modi ji\n",
            "Enter the option A,B,C,D--b\n",
            "Badhai ho aapne jeet liye Rs.10100000000\n",
            "3 prashna aapki screen par yeh raha 20000000000000000 rupee ke liye\n",
            "Who is GANDU?\n",
            "A.You\n",
            "B. Your college\n",
            "C. Your friends\n",
            "D. Your Bandi\n",
            "Enter the option A,B,C,D--c\n",
            "Galat Jawab gharpe jao\n",
            "kul rashi 10100000000\n"
          ]
        }
      ]
    },
    {
      "cell_type": "code",
      "source": [
        "#set is a datatype which is used to store multiplevalue in which all values are unique\n",
        "#no index position\n",
        "#combine results of two or more sets\n",
        "setter={12,13,14,15,16,17}\n",
        "print(\"Before changes=>\",setter)\n",
        "setter.add(\"raj\")  #ADD data\n",
        "setter.remove(12) #remove data\n",
        "print(\"After changes=>\",setter)\n",
        "\n",
        "better={1,2,3,4,5,6,}\n",
        "\n",
        "# to join 2 sets\n",
        "print(\"Union:\", setter.union(better))\n",
        "# to find common elements\n",
        "print(\"Intersection:\", setter.intersection(better))\n",
        "# to check if sets have no common elements\n",
        "print(\"Is disjoint:\", setter.isdisjoint(better))\n",
        "# to check if a set is a superset of another\n",
        "print(\"Is superset:\", setter.issuperset(better))\n",
        "# to find the difference between sets\n",
        "print(\"Difference:\", setter.difference(better))"
      ],
      "metadata": {
        "colab": {
          "base_uri": "https://localhost:8080/"
        },
        "id": "Q2lVt8EFb-0P",
        "outputId": "0355fad6-421b-4c54-ca27-a42137f91844"
      },
      "execution_count": null,
      "outputs": [
        {
          "output_type": "stream",
          "name": "stdout",
          "text": [
            "Before changes=> {16, 17, 12, 13, 14, 15}\n",
            "After changes=> {16, 17, 'raj', 13, 14, 15}\n",
            "Union: {1, 2, 3, 4, 5, 6, 13, 14, 15, 16, 17, 'raj'}\n",
            "Intersection: set()\n",
            "Is disjoint: True\n",
            "Is superset: False\n",
            "Difference: {13, 14, 15, 16, 17, 'raj'}\n"
          ]
        }
      ]
    },
    {
      "cell_type": "code",
      "source": [
        "#list comprehensionis used to complete the process in one line\n",
        "#if we want to store the squares in list we do like\n",
        "newlist=[]\n",
        "for i in range(1,8):\n",
        "  newlist.append(i**2)\n",
        "print(newlist)"
      ],
      "metadata": {
        "colab": {
          "base_uri": "https://localhost:8080/"
        },
        "id": "UyHzgPUjf8-J",
        "outputId": "268f5e27-9cb3-4ab6-c2df-7fcff498ca96"
      },
      "execution_count": null,
      "outputs": [
        {
          "output_type": "stream",
          "name": "stdout",
          "text": [
            "[1, 4, 9, 16, 25, 36, 49]\n"
          ]
        }
      ]
    },
    {
      "cell_type": "code",
      "source": [
        "[i**2 for i in range(1,8)]    #list comprehension"
      ],
      "metadata": {
        "colab": {
          "base_uri": "https://localhost:8080/"
        },
        "id": "IcmmJRDegqFU",
        "outputId": "9adeffc6-d1ca-4505-90d4-f61cfffdb9b1"
      },
      "execution_count": null,
      "outputs": [
        {
          "output_type": "execute_result",
          "data": {
            "text/plain": [
              "[1, 4, 9, 16, 25, 36, 49]"
            ]
          },
          "metadata": {},
          "execution_count": 55
        }
      ]
    },
    {
      "cell_type": "code",
      "source": [
        "#dictionary coprehension\n",
        "{i:i**2 for i in range(1,6)}"
      ],
      "metadata": {
        "colab": {
          "base_uri": "https://localhost:8080/"
        },
        "id": "jXYez33NgxfZ",
        "outputId": "d842a904-012d-4ff2-d781-fc64d8c6b3a1"
      },
      "execution_count": null,
      "outputs": [
        {
          "output_type": "execute_result",
          "data": {
            "text/plain": [
              "{1: 1, 2: 4, 3: 9, 4: 16, 5: 25}"
            ]
          },
          "metadata": {},
          "execution_count": 59
        }
      ]
    },
    {
      "cell_type": "markdown",
      "source": [
        "ASSIGNMENT-4 - create a program\n",
        "when you give ur insta Username and password\n",
        "it should open your browser and instagram.com and then autofill the required fields and then login\n",
        "\n",
        "\n",
        "\n",
        "Selenium is a framework work with python to automate anything with athe browser"
      ],
      "metadata": {
        "id": "DHI5NPHCiB5J"
      }
    },
    {
      "cell_type": "markdown",
      "metadata": {
        "id": "3d3f8b37"
      },
      "source": [
        "# Task\n",
        "Explain the error in the provided Python code, fix it, and then upload the corrected code to a specified GitHub repository."
      ]
    },
    {
      "cell_type": "markdown",
      "metadata": {
        "id": "75323319"
      },
      "source": [
        "## Install `git`\n",
        "\n",
        "### Subtask:\n",
        "Install the Git command-line tool in the Colab environment.\n"
      ]
    },
    {
      "cell_type": "markdown",
      "metadata": {
        "id": "01b10cf4"
      },
      "source": [
        "**Reasoning**:\n",
        "Install the Git command-line tool using apt-get in the Colab environment.\n",
        "\n"
      ]
    },
    {
      "cell_type": "code",
      "metadata": {
        "colab": {
          "base_uri": "https://localhost:8080/"
        },
        "id": "09556e26",
        "outputId": "6ce6d45f-385b-4c6f-a376-6cf243a4ece1"
      },
      "source": [
        "!apt-get update\n",
        "!apt-get install git"
      ],
      "execution_count": null,
      "outputs": [
        {
          "output_type": "stream",
          "name": "stdout",
          "text": [
            "\r0% [Working]\r            \rGet:1 http://security.ubuntu.com/ubuntu jammy-security InRelease [129 kB]\n",
            "\r0% [Connecting to archive.ubuntu.com] [1 InRelease 12.7 kB/129 kB 10%] [Waiting\r                                                                               \rGet:2 https://cloud.r-project.org/bin/linux/ubuntu jammy-cran40/ InRelease [3,632 B]\n",
            "\r0% [Connecting to archive.ubuntu.com] [1 InRelease 14.2 kB/129 kB 11%] [Connect\r                                                                               \rHit:3 https://developer.download.nvidia.com/compute/cuda/repos/ubuntu2204/x86_64  InRelease\n",
            "Hit:4 http://archive.ubuntu.com/ubuntu jammy InRelease\n",
            "Get:5 http://archive.ubuntu.com/ubuntu jammy-updates InRelease [128 kB]\n",
            "Get:6 https://r2u.stat.illinois.edu/ubuntu jammy InRelease [6,555 B]\n",
            "Get:7 http://archive.ubuntu.com/ubuntu jammy-backports InRelease [127 kB]\n",
            "Hit:8 https://ppa.launchpadcontent.net/deadsnakes/ppa/ubuntu jammy InRelease\n",
            "Get:9 http://security.ubuntu.com/ubuntu jammy-security/main amd64 Packages [3,092 kB]\n",
            "Hit:10 https://ppa.launchpadcontent.net/graphics-drivers/ppa/ubuntu jammy InRelease\n",
            "Hit:11 https://ppa.launchpadcontent.net/ubuntugis/ppa/ubuntu jammy InRelease\n",
            "Get:12 https://r2u.stat.illinois.edu/ubuntu jammy/main all Packages [9,078 kB]\n",
            "Get:13 http://security.ubuntu.com/ubuntu jammy-security/universe amd64 Packages [1,262 kB]\n",
            "Get:14 http://archive.ubuntu.com/ubuntu jammy-updates/universe amd64 Packages [1,566 kB]\n",
            "Get:15 http://archive.ubuntu.com/ubuntu jammy-updates/restricted amd64 Packages [4,933 kB]\n",
            "Get:16 http://archive.ubuntu.com/ubuntu jammy-updates/main amd64 Packages [3,410 kB]\n",
            "Get:17 https://r2u.stat.illinois.edu/ubuntu jammy/main amd64 Packages [2,752 kB]\n",
            "Fetched 26.5 MB in 3s (9,229 kB/s)\n",
            "Reading package lists... Done\n",
            "W: Skipping acquire of configured file 'main/source/Sources' as repository 'https://r2u.stat.illinois.edu/ubuntu jammy InRelease' does not seem to provide it (sources.list entry misspelt?)\n",
            "Reading package lists... Done\n",
            "Building dependency tree... Done\n",
            "Reading state information... Done\n",
            "git is already the newest version (1:2.34.1-1ubuntu1.12).\n",
            "0 upgraded, 0 newly installed, 0 to remove and 51 not upgraded.\n"
          ]
        }
      ]
    },
    {
      "cell_type": "markdown",
      "metadata": {
        "id": "3b0a4743"
      },
      "source": [
        "## Configure git\n",
        "\n",
        "### Subtask:\n",
        "Set up your Git username and email for committing changes.\n"
      ]
    },
    {
      "cell_type": "markdown",
      "metadata": {
        "id": "def722ba"
      },
      "source": [
        "**Reasoning**:\n",
        "Configure the Git username and email for committing changes and then verify the configuration.\n",
        "\n"
      ]
    },
    {
      "cell_type": "code",
      "metadata": {
        "colab": {
          "base_uri": "https://localhost:8080/"
        },
        "id": "229bebc9",
        "outputId": "1afeacee-5a24-4ed1-e926-62a4e21878d7"
      },
      "source": [
        "!git config --global user.name \"deveshkumawat258\"\n",
        "!git config --global user.email \"tigerzk258@gmail.com\"\n",
        "!git config --list"
      ],
      "execution_count": 3,
      "outputs": [
        {
          "output_type": "stream",
          "name": "stdout",
          "text": [
            "filter.lfs.clean=git-lfs clean -- %f\n",
            "filter.lfs.smudge=git-lfs smudge -- %f\n",
            "filter.lfs.process=git-lfs filter-process\n",
            "filter.lfs.required=true\n",
            "user.name=deveshkumawat258\n",
            "user.email=tigerzk258@gmail.com\n"
          ]
        }
      ]
    },
    {
      "cell_type": "markdown",
      "metadata": {
        "id": "d8e85423"
      },
      "source": [
        "## Clone the repository\n",
        "\n",
        "### Subtask:\n",
        "Clone your existing GitHub repository to the Colab environment. If you don't have one, you'll need to create one on GitHub first.\n"
      ]
    },
    {
      "cell_type": "markdown",
      "metadata": {
        "id": "24b40e0d"
      },
      "source": [
        "**Reasoning**:\n",
        "Use the git clone command to clone the GitHub repository into the Colab environment.\n",
        "\n"
      ]
    },
    {
      "cell_type": "code",
      "metadata": {
        "colab": {
          "base_uri": "https://localhost:8080/"
        },
        "id": "40254691",
        "outputId": "c2fff911-c958-4f07-e924-ab1658302379"
      },
      "source": [
        "!git clone https://github.com/deveshkumawat258/pythonwork"
      ],
      "execution_count": 4,
      "outputs": [
        {
          "output_type": "stream",
          "name": "stdout",
          "text": [
            "Cloning into 'pythonwork'...\n",
            "remote: Enumerating objects: 3, done.\u001b[K\n",
            "remote: Counting objects: 100% (3/3), done.\u001b[K\n",
            "remote: Total 3 (delta 0), reused 0 (delta 0), pack-reused 0 (from 0)\u001b[K\n",
            "Receiving objects: 100% (3/3), done.\n"
          ]
        }
      ]
    },
    {
      "cell_type": "markdown",
      "metadata": {
        "id": "7adfb397"
      },
      "source": [
        "## Clone the repository\n",
        "\n",
        "### Subtask:\n",
        "Clone your existing GitHub repository to the Colab environment.\n"
      ]
    },
    {
      "cell_type": "markdown",
      "metadata": {
        "id": "0e2fe269"
      },
      "source": [
        "## Summary:\n",
        "\n",
        "### Data Analysis Key Findings\n",
        "\n",
        "*   The initial attempt to clone the repository failed because a placeholder URL was used instead of a valid GitHub repository URL.\n",
        "*   Due to the absence of the correct repository URL and the inability to ask for it, the repository cloning task could not be completed.\n",
        "\n",
        "### Insights or Next Steps\n",
        "\n",
        "*   Provide the actual GitHub repository URL to successfully clone the repository and proceed with the task.\n"
      ]
    },
    {
      "cell_type": "code",
      "metadata": {
        "colab": {
          "base_uri": "https://localhost:8080/"
        },
        "id": "4b5f5396",
        "outputId": "369113a6-62dc-47e0-9d7f-0c5447a40d9a"
      },
      "source": [
        "# Replace with your actual repository name\n",
        "repository_name = \"pythonwork\"\n",
        "notebook_name = \"Untitled0.ipynb\" # Replace with the actual notebook name\n",
        "\n",
        "# Change directory to your cloned repository\n",
        "%cd {repository_name}\n",
        "\n",
        "# Add the notebook to the staging area\n",
        "!git add {notebook_name}\n",
        "\n",
        "# Commit the changes\n",
        "!git commit -m \"Add notebook\"\n",
        "\n",
        "# Push the changes to the remote repository (assuming the default branch is main)\n",
        "!git push origin main"
      ],
      "execution_count": 5,
      "outputs": [
        {
          "output_type": "stream",
          "name": "stdout",
          "text": [
            "/content/pythonwork\n",
            "fatal: pathspec 'Untitled0.ipynb' did not match any files\n",
            "On branch main\n",
            "Your branch is up to date with 'origin/main'.\n",
            "\n",
            "nothing to commit, working tree clean\n",
            "fatal: could not read Username for 'https://github.com': No such device or address\n"
          ]
        }
      ]
    }
  ]
}