{
  "nbformat": 4,
  "nbformat_minor": 0,
  "metadata": {
    "colab": {
      "provenance": [],
      "authorship_tag": "ABX9TyNCUKg2HpU37oD0ca7RzRS4",
      "include_colab_link": true
    },
    "kernelspec": {
      "name": "python3",
      "display_name": "Python 3"
    },
    "language_info": {
      "name": "python"
    }
  },
  "cells": [
    {
      "cell_type": "markdown",
      "metadata": {
        "id": "view-in-github",
        "colab_type": "text"
      },
      "source": [
        "<a href=\"https://colab.research.google.com/github/deveshkumawat258/pythonwork/blob/main/ML_DAY_1.ipynb\" target=\"_parent\"><img src=\"https://colab.research.google.com/assets/colab-badge.svg\" alt=\"Open In Colab\"/></a>"
      ]
    },
    {
      "cell_type": "code",
      "execution_count": null,
      "metadata": {
        "id": "rBX_f9t2k4dd"
      },
      "outputs": [],
      "source": [
        "# data dividation\n",
        "\n",
        "# Data----> Independent(X),Dependent(Y)\n",
        "\n",
        "#x--->x_train,x_test\n",
        "#y--->y_train,y_test"
      ]
    },
    {
      "cell_type": "code",
      "source": [
        "import pandas as pd\n",
        "df=pd.read_csv(\"/content/placement - placement.csv\")\n",
        "df.head(3)\n",
        "df.shape"
      ],
      "metadata": {
        "colab": {
          "base_uri": "https://localhost:8080/"
        },
        "id": "K3B8MUp0s1Yc",
        "outputId": "28ee42eb-21ea-4dbb-b5cc-aa65503f208e"
      },
      "execution_count": null,
      "outputs": [
        {
          "output_type": "execute_result",
          "data": {
            "text/plain": [
              "(100, 3)"
            ]
          },
          "metadata": {},
          "execution_count": 3
        }
      ]
    },
    {
      "cell_type": "code",
      "source": [
        "x=df.drop(columns=[\"placed\"]) ## Input data\n",
        "x.shape"
      ],
      "metadata": {
        "colab": {
          "base_uri": "https://localhost:8080/"
        },
        "id": "qji4oTU-udgG",
        "outputId": "58c7fbda-ba05-43f8-a93b-563b249a4985"
      },
      "execution_count": null,
      "outputs": [
        {
          "output_type": "execute_result",
          "data": {
            "text/plain": [
              "(100, 2)"
            ]
          },
          "metadata": {},
          "execution_count": 4
        }
      ]
    },
    {
      "cell_type": "code",
      "source": [
        "y=df[\"placed\"] ##target data\n",
        "y.shape"
      ],
      "metadata": {
        "colab": {
          "base_uri": "https://localhost:8080/"
        },
        "id": "qaVL0yyZuyfb",
        "outputId": "478a6a4c-c845-43dc-a856-6e0be6f3e88e"
      },
      "execution_count": null,
      "outputs": [
        {
          "output_type": "execute_result",
          "data": {
            "text/plain": [
              "(100,)"
            ]
          },
          "metadata": {},
          "execution_count": 5
        }
      ]
    },
    {
      "cell_type": "code",
      "source": [
        "from sklearn.model_selection import train_test_split"
      ],
      "metadata": {
        "id": "1_MrkiX8vPaX"
      },
      "execution_count": null,
      "outputs": []
    },
    {
      "cell_type": "code",
      "source": [
        "x_train,x_test,y_train,y_test=train_test_split(x,y,test_size=0.2,random_state=42)"
      ],
      "metadata": {
        "id": "-HGhzkypvhcQ"
      },
      "execution_count": null,
      "outputs": []
    },
    {
      "cell_type": "code",
      "source": [
        "print(\"total data shape:\",df.shape)\n",
        "print(\"------------------------------\")\n",
        "print(\"Input data shape:\",x.shape)\n",
        "print(\"x_train data shape\",x_train.shape)\n",
        "print(\"x_test data shape\",x_test.shape)\n",
        "print(\"------------------------------\")\n",
        "print(\"Target data shape:\",y.shape)\n",
        "print(\"y_train data shape;\",y_train.shape)\n",
        "print(\"y_test data shape;\",y_test.shape)\n",
        "\n"
      ],
      "metadata": {
        "colab": {
          "base_uri": "https://localhost:8080/"
        },
        "id": "XEEH3xBzvzaN",
        "outputId": "acbcc7c4-950b-43c9-9ae4-84235eb8aa35"
      },
      "execution_count": null,
      "outputs": [
        {
          "output_type": "stream",
          "name": "stdout",
          "text": [
            "total data shape: (100, 3)\n",
            "------------------------------\n",
            "Input data shape: (100, 2)\n",
            "x_train data shape (80, 2)\n",
            "x_test data shape (20, 2)\n",
            "------------------------------\n",
            "Target data shape: (100,)\n",
            "y_train data shape; (80,)\n",
            "y_test data shape; (20,)\n"
          ]
        }
      ]
    },
    {
      "cell_type": "markdown",
      "source": [
        "# df(100,3) = x(100,2) + y(100,1)\n",
        "# x(100,2) = x_train(80, 2) + x_test(20,2)\n",
        "# y(100, 1) = y_train(80, 1) + y_test(20,1)"
      ],
      "metadata": {
        "id": "fLVnEXH9xAFO"
      }
    },
    {
      "cell_type": "code",
      "source": [],
      "metadata": {
        "id": "HpuQeA34xCbL"
      },
      "execution_count": null,
      "outputs": []
    }
  ]
}