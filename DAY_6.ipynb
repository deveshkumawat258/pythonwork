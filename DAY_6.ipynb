{
  "nbformat": 4,
  "nbformat_minor": 0,
  "metadata": {
    "colab": {
      "provenance": [],
      "authorship_tag": "ABX9TyNthQ56ppp6Lb+206DNQvkY",
      "include_colab_link": true
    },
    "kernelspec": {
      "name": "python3",
      "display_name": "Python 3"
    },
    "language_info": {
      "name": "python"
    }
  },
  "cells": [
    {
      "cell_type": "markdown",
      "metadata": {
        "id": "view-in-github",
        "colab_type": "text"
      },
      "source": [
        "<a href=\"https://colab.research.google.com/github/deveshkumawat258/pythonwork/blob/main/DAY_6.ipynb\" target=\"_parent\"><img src=\"https://colab.research.google.com/assets/colab-badge.svg\" alt=\"Open In Colab\"/></a>"
      ]
    },
    {
      "cell_type": "code",
      "execution_count": null,
      "metadata": {
        "id": "4fJF05N5wtOr"
      },
      "outputs": [],
      "source": []
    },
    {
      "cell_type": "code",
      "source": [
        "#functions\n",
        "#LOGIC=>For condition,LIST,Dictionary\n",
        "#NAME => functions\n",
        "#block of code => specific task is perform\n",
        "#code reusability\n",
        "#code readable\n",
        "#program=> smaller parts mai convert krna\n",
        "# user defined and pre defined"
      ],
      "metadata": {
        "id": "tY7FPQZPUTHB"
      },
      "execution_count": null,
      "outputs": []
    },
    {
      "cell_type": "code",
      "source": [
        "def raj():\n",
        "  print(\"ghar bhagja\")\n",
        "\n",
        "raj()"
      ],
      "metadata": {
        "colab": {
          "base_uri": "https://localhost:8080/"
        },
        "id": "jh9qd7emVqbk",
        "outputId": "4f56f74e-b49d-455e-a144-cd7ff85dd9ab"
      },
      "execution_count": null,
      "outputs": [
        {
          "output_type": "stream",
          "name": "stdout",
          "text": [
            "ghar bhagja\n"
          ]
        }
      ]
    },
    {
      "cell_type": "code",
      "source": [
        "def kaalu(name):   #parameter\n",
        "  print(name,\"tere ghar bhagja\")\n",
        "kaalu(\"raju\")  #fxn calling #argument"
      ],
      "metadata": {
        "colab": {
          "base_uri": "https://localhost:8080/"
        },
        "id": "zytEJHb_WpPI",
        "outputId": "19b1d98d-d3b3-492e-ab13-9599e19a185c"
      },
      "execution_count": null,
      "outputs": [
        {
          "output_type": "stream",
          "name": "stdout",
          "text": [
            "raju tere ghar bhagja\n"
          ]
        }
      ]
    },
    {
      "cell_type": "code",
      "source": [
        "def factor_number(num):\n",
        "  for i in range(1,num+1):\n",
        "    if(num%i==0):\n",
        "      print(i,\"is the factor of the number\",num)\n",
        "factor_number(8)\n"
      ],
      "metadata": {
        "colab": {
          "base_uri": "https://localhost:8080/"
        },
        "id": "vRAe0cZjX_I2",
        "outputId": "68ff465d-0930-4efe-c2c7-7959181deba7"
      },
      "execution_count": null,
      "outputs": [
        {
          "output_type": "stream",
          "name": "stdout",
          "text": [
            "1 is the factor of the number 8\n",
            "2 is the factor of the number 8\n",
            "4 is the factor of the number 8\n",
            "8 is the factor of the number 8\n"
          ]
        }
      ]
    },
    {
      "cell_type": "code",
      "source": [
        "def fun(a,b,c):\n",
        "  print(\"A:\",a,\"B:\",b,\"C:\",c)\n",
        "fun(a=10,c=15,b=12)  #keyword => value in which parameter/variable\n",
        "fun(10,12,15)  #POSITION ARGUMENT"
      ],
      "metadata": {
        "colab": {
          "base_uri": "https://localhost:8080/"
        },
        "id": "c3LNixQ9ZHJ8",
        "outputId": "5f273a4e-5074-4cf3-8089-5d008173d100"
      },
      "execution_count": null,
      "outputs": [
        {
          "output_type": "stream",
          "name": "stdout",
          "text": [
            "A: 10 B: 12 C: 15\n",
            "A: 10 B: 12 C: 15\n"
          ]
        }
      ]
    },
    {
      "cell_type": "code",
      "source": [
        "def babu(*baba):  #variale length argument\n",
        "  print(baba)\n",
        "babu(10,20,30,40)\n",
        "babu()\n"
      ],
      "metadata": {
        "colab": {
          "base_uri": "https://localhost:8080/"
        },
        "id": "3M3HugzXaREg",
        "outputId": "f410f353-1715-425a-df37-1614faf1a6a3"
      },
      "execution_count": null,
      "outputs": [
        {
          "output_type": "stream",
          "name": "stdout",
          "text": [
            "(10, 20, 30, 40)\n",
            "()\n"
          ]
        }
      ]
    },
    {
      "cell_type": "code",
      "source": [
        "#*args and **kwargs\n",
        "def dhol(**baaja):    #keyword variable length argument\n",
        "  print(baaja)\n",
        "dhol(id=780,name=\"raju\")\n",
        "dhol(age=21,surname=\"rastogi\")"
      ],
      "metadata": {
        "colab": {
          "base_uri": "https://localhost:8080/"
        },
        "id": "gN1XTTMlbPjn",
        "outputId": "7fbf713d-7b95-48eb-f1bc-24c1f7cde4fb"
      },
      "execution_count": null,
      "outputs": [
        {
          "output_type": "stream",
          "name": "stdout",
          "text": [
            "{'id': 780, 'name': 'raju'}\n",
            "{'age': 21, 'surname': 'rastogi'}\n"
          ]
        }
      ]
    },
    {
      "cell_type": "code",
      "source": [
        "def test(num):\n",
        "  return(num+5)   #returns the value\n",
        "x=test(18)\n",
        "print(\"x=>\",x)"
      ],
      "metadata": {
        "colab": {
          "base_uri": "https://localhost:8080/"
        },
        "id": "mvqP1UOhcFKF",
        "outputId": "87e2a361-7ba0-4e01-e85e-e9f8382da401"
      },
      "execution_count": null,
      "outputs": [
        {
          "output_type": "stream",
          "name": "stdout",
          "text": [
            "x=> 23\n"
          ]
        }
      ]
    },
    {
      "cell_type": "code",
      "source": [
        "#lambda function --> one line function\n",
        "#anonymous function\n",
        "a=lambda Rahul:Rahul+5\n",
        "a(20)"
      ],
      "metadata": {
        "colab": {
          "base_uri": "https://localhost:8080/"
        },
        "id": "d3mq4gRGd-EX",
        "outputId": "3337167a-2747-4f42-e1f4-b3d879b1e787"
      },
      "execution_count": null,
      "outputs": [
        {
          "output_type": "execute_result",
          "data": {
            "text/plain": [
              "25"
            ]
          },
          "metadata": {},
          "execution_count": 17
        }
      ]
    },
    {
      "cell_type": "code",
      "source": [
        "num=\"RAJU Rastogi\"\n",
        "num.split()"
      ],
      "metadata": {
        "colab": {
          "base_uri": "https://localhost:8080/"
        },
        "id": "2JU7hLGgfnEf",
        "outputId": "65c22c52-668b-496c-9ed7-9961fd1053b4"
      },
      "execution_count": null,
      "outputs": [
        {
          "output_type": "execute_result",
          "data": {
            "text/plain": [
              "['RAJU', 'Rastogi']"
            ]
          },
          "metadata": {},
          "execution_count": 20
        }
      ]
    },
    {
      "cell_type": "code",
      "source": [
        "\n",
        "def name(msg):\n",
        "  k=msg.split()\n",
        "  print(k[0],k[2])\n",
        "name(\"hey hello hii\")"
      ],
      "metadata": {
        "colab": {
          "base_uri": "https://localhost:8080/"
        },
        "id": "wNV-6WSQf9E-",
        "outputId": "4ed53242-eaf3-4b97-f527-53abbf0329b2"
      },
      "execution_count": null,
      "outputs": [
        {
          "output_type": "stream",
          "name": "stdout",
          "text": [
            "hey hii\n"
          ]
        }
      ]
    },
    {
      "cell_type": "code",
      "source": [
        "l=lambda msg:(msg.split()[0],msg.split()[2])\n",
        "l(\"hey hello hii\")"
      ],
      "metadata": {
        "colab": {
          "base_uri": "https://localhost:8080/"
        },
        "id": "q3PFMyPShov4",
        "outputId": "cee9e023-82b8-4537-9b7b-2f575b336158"
      },
      "execution_count": null,
      "outputs": [
        {
          "output_type": "execute_result",
          "data": {
            "text/plain": [
              "('hey', 'hii')"
            ]
          },
          "metadata": {},
          "execution_count": 34
        }
      ]
    },
    {
      "cell_type": "code",
      "source": [
        "s=\"hey hello hii\"\n",
        "x=s.split()\n",
        "l=lambda x:x[0]+x[2]\n",
        "l(x)"
      ],
      "metadata": {
        "colab": {
          "base_uri": "https://localhost:8080/",
          "height": 36
        },
        "id": "hZBJqm-ujW2d",
        "outputId": "f9e2da62-0ed3-41fb-bf97-0b981a0b1adc"
      },
      "execution_count": null,
      "outputs": [
        {
          "output_type": "execute_result",
          "data": {
            "text/plain": [
              "'heyhii'"
            ],
            "application/vnd.google.colaboratory.intrinsic+json": {
              "type": "string"
            }
          },
          "metadata": {},
          "execution_count": 40
        }
      ]
    },
    {
      "cell_type": "code",
      "source": [
        "dic={0:lambda x:x+5,1:\"RAJ\",2:\"RAHUL\"}  #first class functions which are saved in a variable or we store in a datatype like dictionary or list\n",
        "dic[0](7)"
      ],
      "metadata": {
        "colab": {
          "base_uri": "https://localhost:8080/"
        },
        "id": "dqfXjJxRkA7o",
        "outputId": "1098a6b6-694c-4760-ad02-182c0582588a"
      },
      "execution_count": null,
      "outputs": [
        {
          "output_type": "execute_result",
          "data": {
            "text/plain": [
              "12"
            ]
          },
          "metadata": {},
          "execution_count": 45
        }
      ]
    }
  ]
}