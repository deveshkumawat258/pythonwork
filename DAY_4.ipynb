{
  "nbformat": 4,
  "nbformat_minor": 0,
  "metadata": {
    "colab": {
      "provenance": [],
      "authorship_tag": "ABX9TyMic+dtSiV4YkM83c+Mp7FX",
      "include_colab_link": true
    },
    "kernelspec": {
      "name": "python3",
      "display_name": "Python 3"
    },
    "language_info": {
      "name": "python"
    }
  },
  "cells": [
    {
      "cell_type": "markdown",
      "metadata": {
        "id": "view-in-github",
        "colab_type": "text"
      },
      "source": [
        "<a href=\"https://colab.research.google.com/github/deveshkumawat258/pythonwork/blob/main/DAY_4.ipynb\" target=\"_parent\"><img src=\"https://colab.research.google.com/assets/colab-badge.svg\" alt=\"Open In Colab\"/></a>"
      ]
    },
    {
      "cell_type": "code",
      "execution_count": null,
      "metadata": {
        "id": "ySU3Mua8vVOy"
      },
      "outputs": [],
      "source": []
    },
    {
      "cell_type": "code",
      "source": [
        "mylist=[10,20,30,41,57]\n",
        "max=mylist[0]\n",
        "for i in range(0,5):\n",
        "  if(mylist[i]>max):\n",
        "    max=mylist[i]\n",
        "print(mylist[i],max)\n"
      ],
      "metadata": {
        "colab": {
          "base_uri": "https://localhost:8080/"
        },
        "id": "HlnO46F5Dr2Z",
        "outputId": "4ef0f367-8abe-457a-ef2b-5d43267f48d9"
      },
      "execution_count": null,
      "outputs": [
        {
          "output_type": "stream",
          "name": "stdout",
          "text": [
            "57 57\n"
          ]
        }
      ]
    },
    {
      "cell_type": "code",
      "source": [
        "mylist=[10,20,30,59,50]\n",
        "large=mylist[0]\n",
        "seclarge=0\n",
        "for i in range(0,5):\n",
        "  if(mylist[i]>large):\n",
        "    seclarge=large\n",
        "    large=mylist[i]\n",
        "  elif(mylist[i]>seclarge):\n",
        "    seclarge=mylist[i]\n",
        "print(seclarge,\"second large number\",)\n",
        "print(large,\"large number\",)"
      ],
      "metadata": {
        "colab": {
          "base_uri": "https://localhost:8080/"
        },
        "id": "-Cn9oxwhIGSW",
        "outputId": "4dddd33a-45db-47e2-be23-e522f2b537cb"
      },
      "execution_count": null,
      "outputs": [
        {
          "output_type": "stream",
          "name": "stdout",
          "text": [
            "50 second large number\n",
            "59 large number\n"
          ]
        }
      ]
    },
    {
      "cell_type": "code",
      "source": [
        "#NESTED LOOP\n",
        "for i in range(1,5):\n",
        "  print(\"baccha=>\",i)\n",
        "  for k in range(1,i+1):\n",
        "    print(\"copy check!!\",k , end=\",\")\n",
        "  print(\"\")"
      ],
      "metadata": {
        "colab": {
          "base_uri": "https://localhost:8080/"
        },
        "id": "A7TnUa-6K22I",
        "outputId": "279e459d-a70d-4d8a-8e44-4944a86fc598"
      },
      "execution_count": null,
      "outputs": [
        {
          "output_type": "stream",
          "name": "stdout",
          "text": [
            "baccha=> 1\n",
            "copy check!! 1,\n",
            "baccha=> 2\n",
            "copy check!! 1,copy check!! 2,\n",
            "baccha=> 3\n",
            "copy check!! 1,copy check!! 2,copy check!! 3,\n",
            "baccha=> 4\n",
            "copy check!! 1,copy check!! 2,copy check!! 3,copy check!! 4,\n"
          ]
        }
      ]
    },
    {
      "cell_type": "code",
      "source": [
        "for i in range(1,5):\n",
        "  print(\"baccha=>\",i)\n",
        "  for k in range(1,6-i):\n",
        "    print(\"copy check!!\",k , end=\",\")\n",
        "  print(\"\")"
      ],
      "metadata": {
        "colab": {
          "base_uri": "https://localhost:8080/"
        },
        "id": "gAZlo5PmPD58",
        "outputId": "5de0999c-6237-4699-89a6-cf779270dcd8"
      },
      "execution_count": null,
      "outputs": [
        {
          "output_type": "stream",
          "name": "stdout",
          "text": [
            "baccha=> 1\n",
            "copy check!! 1,copy check!! 2,copy check!! 3,copy check!! 4,\n",
            "baccha=> 2\n",
            "copy check!! 1,copy check!! 2,copy check!! 3,\n",
            "baccha=> 3\n",
            "copy check!! 1,copy check!! 2,\n",
            "baccha=> 4\n",
            "copy check!! 1,\n"
          ]
        }
      ]
    },
    {
      "cell_type": "code",
      "source": [
        "for i in range (1,5):\n",
        "  for j in range(1,5-i+1):\n",
        "    print(\"*\",end=\"\")\n",
        "  print()"
      ],
      "metadata": {
        "colab": {
          "base_uri": "https://localhost:8080/"
        },
        "id": "UtelwjV8PuA2",
        "outputId": "19921afd-3f62-4911-ff3f-8d28994f80ea"
      },
      "execution_count": null,
      "outputs": [
        {
          "output_type": "stream",
          "name": "stdout",
          "text": [
            "****\n",
            "***\n",
            "**\n",
            "*\n"
          ]
        }
      ]
    },
    {
      "cell_type": "code",
      "source": [
        "for i in range (1,5):\n",
        "  for j in range(1,5):\n",
        "    print(j,end=\"\")\n",
        "  print()"
      ],
      "metadata": {
        "colab": {
          "base_uri": "https://localhost:8080/"
        },
        "id": "q60pqT8pQlH2",
        "outputId": "2fd5bb48-e117-4a4f-b186-2ab21d4df625"
      },
      "execution_count": null,
      "outputs": [
        {
          "output_type": "stream",
          "name": "stdout",
          "text": [
            "1234\n",
            "1234\n",
            "1234\n",
            "1234\n"
          ]
        }
      ]
    },
    {
      "cell_type": "code",
      "source": [
        "var=1\n",
        "for i in range (1,5):\n",
        "  for j in range(1,i+1):\n",
        "    print(var,end=\"\")\n",
        "    var+=1\n",
        "  print()"
      ],
      "metadata": {
        "colab": {
          "base_uri": "https://localhost:8080/"
        },
        "id": "GnRB86ODRcc4",
        "outputId": "580c9d73-9959-4985-f119-c614ea115c0f"
      },
      "execution_count": null,
      "outputs": [
        {
          "output_type": "stream",
          "name": "stdout",
          "text": [
            "1\n",
            "23\n",
            "456\n",
            "78910\n"
          ]
        }
      ]
    },
    {
      "cell_type": "code",
      "source": [
        "var=9\n",
        "for i in range (1,5):\n",
        "  for j in range(1,5-i):\n",
        "    print(var,end=\"\")\n",
        "    var-=1\n",
        "  print()"
      ],
      "metadata": {
        "colab": {
          "base_uri": "https://localhost:8080/"
        },
        "id": "GX2CrMAhSv63",
        "outputId": "7fc9fee3-fc96-456f-8b4d-9b5ef82b620f"
      },
      "execution_count": null,
      "outputs": [
        {
          "output_type": "stream",
          "name": "stdout",
          "text": [
            "987\n",
            "65\n",
            "4\n",
            "\n"
          ]
        }
      ]
    },
    {
      "cell_type": "code",
      "source": [
        "for i in range (1,5):\n",
        "  v=ord('A')\n",
        "  for j in range(1,i+1):\n",
        "    print(chr(v),end=\"\")\n",
        "    v+=1\n",
        "  print()"
      ],
      "metadata": {
        "colab": {
          "base_uri": "https://localhost:8080/"
        },
        "id": "nr0l_zS2TEfQ",
        "outputId": "88078b9f-2434-490b-86c5-0faa6a216010"
      },
      "execution_count": null,
      "outputs": [
        {
          "output_type": "stream",
          "name": "stdout",
          "text": [
            "A\n",
            "AB\n",
            "ABC\n",
            "ABCD\n"
          ]
        }
      ]
    },
    {
      "cell_type": "code",
      "source": [
        "m=[10,20,30,80]\n",
        "for i in range(0,4):\n",
        "  for j in range(i+1,4):\n",
        "\n",
        "    if(m[i]+m[j]==90):\n",
        "      print(m[i],m[j])\n",
        "      print(m[i],\"and\",m[j],\"is the number makes 90\")\n",
        "    else:\n",
        "      print(\"no number makes 90\")\n",
        "  print()"
      ],
      "metadata": {
        "colab": {
          "base_uri": "https://localhost:8080/"
        },
        "id": "2GtexLL4Vg3d",
        "outputId": "e860df82-f027-42c6-998d-7966d27e410c"
      },
      "execution_count": null,
      "outputs": [
        {
          "output_type": "stream",
          "name": "stdout",
          "text": [
            "no number makes 90\n",
            "no number makes 90\n",
            "10 80\n",
            "10 and 80 is the number makes 90\n",
            "\n",
            "no number makes 90\n",
            "no number makes 90\n",
            "\n",
            "no number makes 90\n",
            "\n",
            "\n"
          ]
        }
      ]
    }
  ]
}