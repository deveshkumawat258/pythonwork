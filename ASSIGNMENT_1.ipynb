{
  "nbformat": 4,
  "nbformat_minor": 0,
  "metadata": {
    "colab": {
      "provenance": [],
      "authorship_tag": "ABX9TyN4LyV8SXA+7P2CPbRxqaLe",
      "include_colab_link": true
    },
    "kernelspec": {
      "name": "python3",
      "display_name": "Python 3"
    },
    "language_info": {
      "name": "python"
    }
  },
  "cells": [
    {
      "cell_type": "markdown",
      "metadata": {
        "id": "view-in-github",
        "colab_type": "text"
      },
      "source": [
        "<a href=\"https://colab.research.google.com/github/deveshkumawat258/pythonwork/blob/main/ASSIGNMENT_1.ipynb\" target=\"_parent\"><img src=\"https://colab.research.google.com/assets/colab-badge.svg\" alt=\"Open In Colab\"/></a>"
      ]
    },
    {
      "cell_type": "code",
      "execution_count": null,
      "metadata": {
        "id": "b2FOtgN7vZ_v"
      },
      "outputs": [],
      "source": []
    },
    {
      "cell_type": "code",
      "source": [
        "#question 1\n",
        "#even or odd\n",
        "x =int(input(\"Enter a number: \"))\n",
        "if(x%2==0):\n",
        "  print(\"x is an even number \")\n",
        "elif(x%2==1):\n",
        "  print(\"x is an odd number \")"
      ],
      "metadata": {
        "id": "v2ekptTyvCgA",
        "colab": {
          "base_uri": "https://localhost:8080/"
        },
        "outputId": "794f7593-ab5f-4066-ee75-f305baad839e"
      },
      "execution_count": null,
      "outputs": [
        {
          "output_type": "stream",
          "name": "stdout",
          "text": [
            "Enter a number: 12\n",
            "x is an even number \n"
          ]
        }
      ]
    },
    {
      "cell_type": "code",
      "source": [
        "#question 2\n",
        "#largest of three\n",
        "x= int(input(\"enter 1st number:\"))\n",
        "y= int(input(\"enter 2nd number:\"))\n",
        "z= int(input(\"enter 3rd number:\"))\n",
        "if(x>y and x>z):\n",
        "  print(\"x is largest:\", x)\n",
        "elif(y>x and y>z):\n",
        "  print(\"y is largest:\", y)\n",
        "else:\n",
        "  print(\"z is largest:\", z)"
      ],
      "metadata": {
        "colab": {
          "base_uri": "https://localhost:8080/"
        },
        "id": "6CAyY2pzKxvg",
        "outputId": "c6004feb-ff2b-4e96-b43e-187e0ded7e45"
      },
      "execution_count": null,
      "outputs": [
        {
          "output_type": "stream",
          "name": "stdout",
          "text": [
            "enter 1st number:2\n",
            "enter 2nd number:10\n",
            "enter 3rd number:1\n",
            "y is largest: 10\n"
          ]
        }
      ]
    },
    {
      "cell_type": "code",
      "source": [
        "# question 3\n",
        "# leap year\n",
        "x= int(input(\"enter an year:\"))\n",
        "if(x%4==0 and x%100!=0 )or (x%400==0):\n",
        "  print(x, \"is a leap year\")\n",
        "else:\n",
        "  print(x, \"is not a leap year\")"
      ],
      "metadata": {
        "colab": {
          "base_uri": "https://localhost:8080/"
        },
        "id": "nhkIUXBUMMpT",
        "outputId": "8cbd9eff-b037-4659-8233-6fc4a0660923"
      },
      "execution_count": null,
      "outputs": [
        {
          "output_type": "stream",
          "name": "stdout",
          "text": [
            "enter an year:2020\n",
            "2020 is a leap year\n"
          ]
        }
      ]
    },
    {
      "cell_type": "code",
      "source": [
        "#question 4\n",
        "x=int(input(\"enter the percentage:\"))\n",
        "if(x>100):\n",
        "  print(\"Enter valid percentage:\")\n",
        "elif(x>=90):\n",
        "  print(\"Grade A\")\n",
        "elif(x>=80 and x<=90):\n",
        "  print(\"Grade B\")\n",
        "elif(x>=70 and x<=80):\n",
        "  print(\"Grade C\")\n",
        "elif(x>=60 and x<=70):\n",
        "  print(\"Grade D\")\n",
        "else:\n",
        "  print(\"Grade F\")"
      ],
      "metadata": {
        "colab": {
          "base_uri": "https://localhost:8080/"
        },
        "id": "F6yr8uDiPt9r",
        "outputId": "85723e07-6e1d-49ae-bcff-838ef34de010"
      },
      "execution_count": null,
      "outputs": [
        {
          "output_type": "stream",
          "name": "stdout",
          "text": [
            "enter the percentage:89\n",
            "Grade B\n"
          ]
        }
      ]
    },
    {
      "cell_type": "code",
      "source": [
        "#question 5\n",
        "#vowel or consonent\n",
        "letter=input(\"enter a letter:\" )\n",
        "if(letter==\"a\" ):\n",
        "  print(letter, \" is vowel\")\n",
        "elif(letter==\"e\" ):\n",
        "  print(letter, \" is vowel\")\n",
        "elif(letter==\"i\" ):\n",
        "  print(letter, \" is vowel\")\n",
        "elif(letter==\"o\" ):\n",
        "  print(letter, \" is vowel\")\n",
        "elif(letter==\"u\" ):\n",
        "  print(letter, \" is vowel\")\n",
        "else:\n",
        "  print(letter, \"is consonant\")"
      ],
      "metadata": {
        "colab": {
          "base_uri": "https://localhost:8080/"
        },
        "id": "r_L4nf-rXdHB",
        "outputId": "9e9481e9-3f2b-439f-bf9d-eaf708c1636e"
      },
      "execution_count": null,
      "outputs": [
        {
          "output_type": "stream",
          "name": "stdout",
          "text": [
            "enter a letter:l\n",
            "l is consonant\n"
          ]
        }
      ]
    },
    {
      "cell_type": "code",
      "source": [
        "#question6\n",
        "#calculator\n",
        "num1=float(input(\"enter first number: \"))\n",
        "operator=input(\"enter an operator(+,-,/,*):\")\n",
        "num2=float(input(\"enter 2nd number:\"))\n",
        "if(operator=='+'):\n",
        "  print(num1+num2)\n",
        "elif(operator=='-'):\n",
        "  print(num1-num2)\n",
        "elif(operator=='*'):\n",
        "  print(num1*num2)\n",
        "elif(operator=='/'):\n",
        "  print(num1/num2)"
      ],
      "metadata": {
        "colab": {
          "base_uri": "https://localhost:8080/"
        },
        "id": "b19HMWVqfoU6",
        "outputId": "90b4727d-d635-4b32-cf37-620b81399209"
      },
      "execution_count": null,
      "outputs": [
        {
          "output_type": "stream",
          "name": "stdout",
          "text": [
            "enter first number: 12\n",
            "enter an operator(+,-,/,*):*\n",
            "enter 2nd number:45\n",
            "540.0\n"
          ]
        }
      ]
    },
    {
      "cell_type": "code",
      "source": [
        "#question 7\n",
        "#positive or negative\n",
        "number=int(input(\"enter the number:\"))\n",
        "if(number>0):\n",
        "  print(\"number is positive\")\n",
        "elif(number<0):\n",
        "  print(\"number is negative\")\n",
        "elif(number==0):\n",
        "  print(\"number is zero\")"
      ],
      "metadata": {
        "colab": {
          "base_uri": "https://localhost:8080/"
        },
        "id": "8PZzuZtUpHOn",
        "outputId": "e781361a-6f7f-4643-84c9-9152e079e61a"
      },
      "execution_count": null,
      "outputs": [
        {
          "output_type": "stream",
          "name": "stdout",
          "text": [
            "enter the number:-9\n",
            "number is negative\n"
          ]
        }
      ]
    },
    {
      "cell_type": "code",
      "source": [
        "#question 8\n",
        "#password and username\n",
        "usnm=\"admin\"\n",
        "pwd=\"1234\"\n",
        "username=input(\"enter the username:\")\n",
        "password=input(\"Enter the password:\")\n",
        "if(username==usnm and password==pwd):\n",
        "  print(\"Login Successful!\")\n",
        "else:\n",
        "  print(\"Login Failed!\")"
      ],
      "metadata": {
        "colab": {
          "base_uri": "https://localhost:8080/"
        },
        "id": "nbdYcVt4p2Ri",
        "outputId": "f1a23c42-69b0-4b2f-ffb6-8d55c35a12d0"
      },
      "execution_count": null,
      "outputs": [
        {
          "output_type": "stream",
          "name": "stdout",
          "text": [
            "enter the username:devesh\n",
            "Enter the password:234\n",
            "Login Failed!\n"
          ]
        }
      ]
    },
    {
      "cell_type": "code",
      "source": [
        "#question 9\n",
        "#valid triangle\n",
        "print(\"Enter the three sides of triangle:\")\n",
        "a=int(input(\"Side 1:\"))\n",
        "b=int(input(\"Side 2:\"))\n",
        "c=int(input(\"Side 3:\"))\n",
        "if(a+b>c or b+c>a or c+a>b):\n",
        "  print(\"The triangle is valid \")\n",
        "else:\n",
        "  print(\"invalid triangle\")"
      ],
      "metadata": {
        "colab": {
          "base_uri": "https://localhost:8080/"
        },
        "id": "j_KKm1OErHDB",
        "outputId": "1da37377-1d41-417b-fc13-ef2ad7c09b13"
      },
      "execution_count": null,
      "outputs": [
        {
          "output_type": "stream",
          "name": "stdout",
          "text": [
            "Enter the three sides of triangle:\n",
            "Side 1:2\n",
            "Side 2:4\n",
            "Side 3:6\n",
            "The triangle is valid \n"
          ]
        }
      ]
    },
    {
      "cell_type": "code",
      "source": [
        "#question 10\n",
        "#BMI\n",
        "print(\"Enter your weight and height for BMI\")\n",
        "weight=float(input(\"Enter weight(kg):\"))\n",
        "height=float(input(\"Enter Height(m)\"))\n",
        "BMI=weight/(height**2)\n",
        "if(BMI<18.5):\n",
        "  print(\"Underweight\")\n",
        "elif(18.5<=BMI<25):\n",
        "  print(\"Normal weight\")\n",
        "elif(25<=BMI<30):\n",
        "  print(\"Overweight\")\n",
        "elif(BMI>=30):\n",
        "  print(\"Obesity\")\n",
        "print(\"BMI is \",BMI)"
      ],
      "metadata": {
        "colab": {
          "base_uri": "https://localhost:8080/"
        },
        "id": "wc_UjokYsgnS",
        "outputId": "549b3e4a-2ba6-45b9-9eac-8c7f1aabe0a4"
      },
      "execution_count": null,
      "outputs": [
        {
          "output_type": "stream",
          "name": "stdout",
          "text": [
            "Enter your weight and height for BMI\n",
            "Enter weight(kg):90\n",
            "Enter Height(m)2.3\n",
            "Underweight\n",
            "BMI is  17.013232514177698\n"
          ]
        }
      ]
    },
    {
      "cell_type": "code",
      "source": [
        "#question 11\n",
        "#discount\n",
        "price=float(input(\"Enter the price of the product:\"))\n",
        "if(price>=1000):\n",
        "  discount=(price*10)/100\n",
        "  print(\"discount is 10%:\" ,discount)\n",
        "  print(\"Final price is:\",price-discount)\n",
        "elif(500<=price<1000):\n",
        "  discount=(price*5)/100\n",
        "  print(\"discount is 10%:\" ,discount)\n",
        "  print(\"Final price is:\",price-discount)\n",
        "else:\n",
        "  print(\"no discount!!\")\n",
        "\n",
        "\n"
      ],
      "metadata": {
        "colab": {
          "base_uri": "https://localhost:8080/"
        },
        "id": "4XObbXgsuTp0",
        "outputId": "0f970cd2-99c1-4d92-962c-c8ec4ca07275"
      },
      "execution_count": null,
      "outputs": [
        {
          "output_type": "stream",
          "name": "stdout",
          "text": [
            "Enter the price of the product:596895.8377\n",
            "discount is 10%: 59689.583770000005\n",
            "Final price is: 537206.25393\n"
          ]
        }
      ]
    },
    {
      "cell_type": "code",
      "source": [
        "#question 12\n",
        "#print days in month\n",
        "month=input(\"enter the name of the month:\")\n",
        "if(month=='january' or month=='march'or month=='may'or month=='july'or month=='august'or month=='december'):\n",
        "  print(\"The no. of days in month are 31\")\n",
        "elif(month=='april'or month=='june'or month=='september'or month=='november'):\n",
        "  print(\"No. of days in month are 30\")\n",
        "elif(month=='february'):\n",
        "  print(\"No. of days are 29\")"
      ],
      "metadata": {
        "colab": {
          "base_uri": "https://localhost:8080/"
        },
        "id": "tl7vwueK23JN",
        "outputId": "ab27911e-73db-4d7e-9c89-8bb49afe4a27"
      },
      "execution_count": null,
      "outputs": [
        {
          "output_type": "stream",
          "name": "stdout",
          "text": [
            "enter the name of the month:june\n",
            "No. of days in month are 30\n"
          ]
        }
      ]
    },
    {
      "cell_type": "code",
      "source": [
        "#question13\n",
        "#ATM\n",
        "balance=1000\n",
        "print(\" 1.Check balance 2.Deposit money 3.Withdraw money\")\n",
        "choice=int(input(\"Enter the choice(1,2,3)\"))\n",
        "if(choice==1):\n",
        "  print(\"balance is: \",balance)\n",
        "elif(choice==2):\n",
        "  ADD=float(input(\"Enter the money to be added:\"))\n",
        "  balance+=ADD\n",
        "  print(\"Updated balance is \",balance)\n",
        "elif(choice==3):\n",
        "\n",
        "  WTH=float(input(\"Enter the money to withdraw:\"))\n",
        "  if(balance-WTH>=0):\n",
        "    balance-=WTH\n",
        "    print(\"Updated balance is \",balance)\n",
        "  else:\n",
        "    print(\"Insufficient Ammount. Try again\")\n"
      ],
      "metadata": {
        "id": "R9TTueK_6QhH",
        "colab": {
          "base_uri": "https://localhost:8080/"
        },
        "outputId": "caf9d077-82c5-47fa-a29f-45f1b48512e9"
      },
      "execution_count": null,
      "outputs": [
        {
          "output_type": "stream",
          "name": "stdout",
          "text": [
            " 1.Check balance 2.Deposit money 3.Withdraw money\n",
            "Enter the choice(1,2,3)2\n",
            "Enter the money to be added:2000\n",
            "Updated balance is  3000.0\n"
          ]
        }
      ]
    },
    {
      "cell_type": "code",
      "source": [
        "\n",
        "#question 14\n",
        "age=int(input(\"Enter the age \"))\n",
        "if(0<=age<=1):\n",
        "  print(\"infant\")\n",
        "elif(2<=age<=4):\n",
        "  print(\"Toddler\")\n",
        "elif(5<=age<=12):\n",
        "  print(\"child\")\n",
        "elif(13<=age<=19):\n",
        "  print(\"teenager\")\n",
        "elif(20<=age<=59):\n",
        "  print(\"Adult\")\n",
        "elif(60<=age):\n",
        "  print(\"senior\")"
      ],
      "metadata": {
        "colab": {
          "base_uri": "https://localhost:8080/"
        },
        "id": "4fftd6H-785x",
        "outputId": "ea8f1910-4ff6-4a44-fd9f-9d7edcfb9d37"
      },
      "execution_count": null,
      "outputs": [
        {
          "output_type": "stream",
          "name": "stdout",
          "text": [
            "Enter the age 38\n",
            "Adult\n"
          ]
        }
      ]
    },
    {
      "cell_type": "code",
      "source": [
        "#question15\n",
        "#name of the day\n",
        "day=int(input(\"Enter the number of the day:\",))\n",
        "if(day==1):\n",
        "  print(\"Monday\")\n",
        "elif(day==2):\n",
        "  print(\"Tuesday\")\n",
        "elif(day==3):\n",
        "  print(\"Wednesday\")\n",
        "elif(day==4):\n",
        "  print(\"Thursday\")\n",
        "elif(day==5):\n",
        "  print(\"Friday\")\n",
        "elif(day==6):\n",
        "  print(\"Saturday\")\n",
        "elif(day==7):\n",
        "  print(\"Sunday\")\n",
        "else:\n",
        "  print(\"invalid input!!\")"
      ],
      "metadata": {
        "colab": {
          "base_uri": "https://localhost:8080/"
        },
        "id": "O8vTXFN8-QB4",
        "outputId": "3f0b98d7-6764-45cf-f739-e4ef9a975046"
      },
      "execution_count": null,
      "outputs": [
        {
          "output_type": "stream",
          "name": "stdout",
          "text": [
            "Enter the number of the day:8\n",
            "invalid input!!\n"
          ]
        }
      ]
    },
    {
      "cell_type": "code",
      "source": [
        "num=int(input(\"enter number \"))\n",
        "if(num%2==0):\n",
        "  if(num%3==0):\n",
        "    print(\"number is divisible by 6\")\n",
        "  else:\n",
        "    print(\"number is divisible by 2\")\n",
        "else:\n",
        "  print(\"number is not divisible by 2\")"
      ],
      "metadata": {
        "colab": {
          "base_uri": "https://localhost:8080/"
        },
        "id": "bjZq_5ldloe9",
        "outputId": "5a35e646-640a-425c-b948-b00c6df17434"
      },
      "execution_count": null,
      "outputs": [
        {
          "output_type": "stream",
          "name": "stdout",
          "text": [
            "enter number 13\n",
            "number is not divisible by 2\n"
          ]
        }
      ]
    }
  ]
}