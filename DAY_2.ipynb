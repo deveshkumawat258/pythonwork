{
  "nbformat": 4,
  "nbformat_minor": 0,
  "metadata": {
    "colab": {
      "provenance": [],
      "authorship_tag": "ABX9TyNiZK7jlkagl8YCTBPeo4Qa",
      "include_colab_link": true
    },
    "kernelspec": {
      "name": "python3",
      "display_name": "Python 3"
    },
    "language_info": {
      "name": "python"
    }
  },
  "cells": [
    {
      "cell_type": "markdown",
      "metadata": {
        "id": "view-in-github",
        "colab_type": "text"
      },
      "source": [
        "<a href=\"https://colab.research.google.com/github/deveshkumawat258/pythonwork/blob/main/DAY_2.ipynb\" target=\"_parent\"><img src=\"https://colab.research.google.com/assets/colab-badge.svg\" alt=\"Open In Colab\"/></a>"
      ]
    },
    {
      "cell_type": "code",
      "execution_count": null,
      "metadata": {
        "id": "K8mUxAmrvXVm"
      },
      "outputs": [],
      "source": []
    },
    {
      "cell_type": "code",
      "source": [
        "#string indexing and slicing\n",
        "#python allow data access from both side lhs or rhs\n",
        "a=\"RAJASTHAN\"\n",
        "# 0,1,2,3 .....(+ve index)\n",
        "#-4,-3,-2,-(-ve index)\n",
        "print(a[0])\n",
        "print(a[1])\n",
        "print(a[2])\n",
        "print(a[3])\n",
        "print(a[4])\n",
        "print(a[5])\n",
        "print(a[6])\n",
        "print(a[-2])\n",
        "print(a[-1])"
      ],
      "metadata": {
        "colab": {
          "base_uri": "https://localhost:8080/"
        },
        "id": "g0gx_qdrm9Tk",
        "outputId": "c0d4f6d2-ebb4-485a-e5df-5bced97e6183"
      },
      "execution_count": null,
      "outputs": [
        {
          "output_type": "stream",
          "name": "stdout",
          "text": [
            "R\n",
            "A\n",
            "J\n",
            "A\n",
            "S\n",
            "T\n",
            "H\n",
            "A\n",
            "N\n"
          ]
        }
      ]
    },
    {
      "cell_type": "code",
      "source": [
        "#pyhton allows us to access data based on the index position\n",
        "#start:stop:[step=1]   (stop value is not included in this )\n",
        "a=\"DEVESH\"\n",
        "print(a[1:3])"
      ],
      "metadata": {
        "colab": {
          "base_uri": "https://localhost:8080/"
        },
        "id": "lKNsEQPyn2Eq",
        "outputId": "81e9204c-8b3a-4539-82d7-5e88602b57e7"
      },
      "execution_count": null,
      "outputs": [
        {
          "output_type": "stream",
          "name": "stdout",
          "text": [
            "EV\n"
          ]
        }
      ]
    },
    {
      "cell_type": "code",
      "source": [
        "#if i use colon then it will print complete data\n",
        "print(a[3:])\n",
        "print(a[:4])\n",
        "print(a[0:5:2])\n",
        "print(a[1:5:-1]) #will show no output because step size not in range it is -1\n",
        "print(a[-1:-4:-1])# should give -ve steping to add in negative index\n",
        "print(a[-4:-1:1])#-4+1=-3 in range\n",
        "print(a[-4:-1:-1])#it will not run because -4-1=-5 not in range\n"
      ],
      "metadata": {
        "colab": {
          "base_uri": "https://localhost:8080/"
        },
        "id": "XkD9E3eqo_1t",
        "outputId": "084ce6d4-3115-4731-d4a9-db7e99e47440"
      },
      "execution_count": null,
      "outputs": [
        {
          "output_type": "stream",
          "name": "stdout",
          "text": [
            "ESH\n",
            "DEVE\n",
            "DVS\n",
            "\n",
            "HSE\n",
            "VES\n"
          ]
        }
      ]
    },
    {
      "cell_type": "code",
      "source": [
        "#looping - used to perform repeatative task\n",
        "for i in range(1,5):\n",
        "  print(i)\n",
        "for i in range(1,9,2):\n",
        "  print(i)\n"
      ],
      "metadata": {
        "colab": {
          "base_uri": "https://localhost:8080/"
        },
        "id": "Ee5LwAVTuKe6",
        "outputId": "ee82913c-fdd3-4218-c579-5d8d211b7af6"
      },
      "execution_count": null,
      "outputs": [
        {
          "output_type": "stream",
          "name": "stdout",
          "text": [
            "1\n",
            "2\n",
            "3\n",
            "4\n",
            "1\n",
            "3\n",
            "5\n",
            "7\n"
          ]
        }
      ]
    },
    {
      "cell_type": "code",
      "source": [
        "for i in range (9,1,-1):\n",
        "  print(\"gandu\",i)"
      ],
      "metadata": {
        "colab": {
          "base_uri": "https://localhost:8080/"
        },
        "id": "WzOaaDX9vwaD",
        "outputId": "a4254223-be48-40e6-b13f-1b6a57bbe0d8"
      },
      "execution_count": null,
      "outputs": [
        {
          "output_type": "stream",
          "name": "stdout",
          "text": [
            "gandu 9\n",
            "gandu 8\n",
            "gandu 7\n",
            "gandu 6\n",
            "gandu 5\n",
            "gandu 4\n",
            "gandu 3\n",
            "gandu 2\n"
          ]
        }
      ]
    },
    {
      "cell_type": "code",
      "source": [
        "total=0\n",
        "for i in range(1,6):\n",
        "  total=total+i\n",
        "  print(\"dev\",i,total)"
      ],
      "metadata": {
        "colab": {
          "base_uri": "https://localhost:8080/"
        },
        "id": "TFiQJtD_v80Q",
        "outputId": "14cffe26-cb61-4629-d6f1-f780266467d3"
      },
      "execution_count": null,
      "outputs": [
        {
          "output_type": "stream",
          "name": "stdout",
          "text": [
            "dev 1 1\n",
            "dev 2 3\n",
            "dev 3 6\n",
            "dev 4 10\n",
            "dev 5 15\n"
          ]
        }
      ]
    },
    {
      "cell_type": "code",
      "source": [
        "z=0\n",
        "a=int(input(\"enter number \"))\n",
        "for i in range(1,a+1):\n",
        "  if(a%i==0):\n",
        "    z+=1\n",
        "print(\"total factors are \",z)\n",
        "if(z<=2):\n",
        "  print(\"this is a prime number  \")\n",
        "else:\n",
        "  print(\"not a prime number\")\n"
      ],
      "metadata": {
        "colab": {
          "base_uri": "https://localhost:8080/"
        },
        "id": "oO5TpYoOxHT0",
        "outputId": "3aa3163e-8240-4774-d1e7-4757866db530"
      },
      "execution_count": null,
      "outputs": [
        {
          "output_type": "stream",
          "name": "stdout",
          "text": [
            "enter number 28\n",
            "total factors are  6\n",
            "not a prime number\n"
          ]
        }
      ]
    },
    {
      "cell_type": "code",
      "source": [
        "total=0\n",
        "for i in range(97,57,-1):\n",
        "  if(i%2==0):\n",
        "    print(i)\n",
        "    total=total+i\n",
        "print (\"Total of all even numbers :\",total)"
      ],
      "metadata": {
        "colab": {
          "base_uri": "https://localhost:8080/"
        },
        "id": "kz6dp0gv0lGO",
        "outputId": "540d9c9d-c439-4ba3-f26c-f4d5cf1b7586"
      },
      "execution_count": null,
      "outputs": [
        {
          "output_type": "stream",
          "name": "stdout",
          "text": [
            "96\n",
            "94\n",
            "92\n",
            "90\n",
            "88\n",
            "86\n",
            "84\n",
            "82\n",
            "80\n",
            "78\n",
            "76\n",
            "74\n",
            "72\n",
            "70\n",
            "68\n",
            "66\n",
            "64\n",
            "62\n",
            "60\n",
            "58\n",
            "Total of all even numbers : 1540\n"
          ]
        }
      ]
    },
    {
      "cell_type": "code",
      "source": [
        "#while loop\n",
        "i=1\n",
        "while(i<10):\n",
        "  print(\"value of i is :\",i)\n",
        "  i+=1"
      ],
      "metadata": {
        "colab": {
          "base_uri": "https://localhost:8080/"
        },
        "id": "QTr9TWNH3m4u",
        "outputId": "0f79c438-05e2-49e8-d406-0d190015abab"
      },
      "execution_count": null,
      "outputs": [
        {
          "output_type": "stream",
          "name": "stdout",
          "text": [
            "value of i is : 1\n",
            "value of i is : 2\n",
            "value of i is : 3\n",
            "value of i is : 4\n",
            "value of i is : 5\n",
            "value of i is : 6\n",
            "value of i is : 7\n",
            "value of i is : 8\n",
            "value of i is : 9\n"
          ]
        }
      ]
    }
  ]
}