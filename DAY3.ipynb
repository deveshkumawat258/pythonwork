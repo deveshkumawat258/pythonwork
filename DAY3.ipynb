{
  "nbformat": 4,
  "nbformat_minor": 0,
  "metadata": {
    "colab": {
      "provenance": [],
      "authorship_tag": "ABX9TyNXHFQpxCkK6uVFc2ayX0zC",
      "include_colab_link": true
    },
    "kernelspec": {
      "name": "python3",
      "display_name": "Python 3"
    },
    "language_info": {
      "name": "python"
    }
  },
  "cells": [
    {
      "cell_type": "markdown",
      "metadata": {
        "id": "view-in-github",
        "colab_type": "text"
      },
      "source": [
        "<a href=\"https://colab.research.google.com/github/deveshkumawat258/pythonwork/blob/main/DAY3.ipynb\" target=\"_parent\"><img src=\"https://colab.research.google.com/assets/colab-badge.svg\" alt=\"Open In Colab\"/></a>"
      ]
    },
    {
      "cell_type": "code",
      "execution_count": null,
      "metadata": {
        "id": "CwSlC40IvVo1"
      },
      "outputs": [],
      "source": []
    },
    {
      "cell_type": "code",
      "source": [
        "#to print top 30 numbers divisivble by 2 and 6\n",
        "a=0\n",
        "num=1\n",
        "while(a<30):\n",
        "  if(num%2==0 and num%6==0):\n",
        "    print(\"number divisibl by 2 and 6 is :\",num)\n",
        "    a+=1\n",
        "  num+=1\n"
      ],
      "metadata": {
        "colab": {
          "base_uri": "https://localhost:8080/"
        },
        "id": "Z8IZ76MOud7H",
        "outputId": "5ea285b5-4be5-48c2-b431-3890f6f99e4d"
      },
      "execution_count": null,
      "outputs": [
        {
          "output_type": "stream",
          "name": "stdout",
          "text": [
            "number divisibl by 2 and 6 is : 6\n",
            "number divisibl by 2 and 6 is : 12\n",
            "number divisibl by 2 and 6 is : 18\n",
            "number divisibl by 2 and 6 is : 24\n",
            "number divisibl by 2 and 6 is : 30\n",
            "number divisibl by 2 and 6 is : 36\n",
            "number divisibl by 2 and 6 is : 42\n",
            "number divisibl by 2 and 6 is : 48\n",
            "number divisibl by 2 and 6 is : 54\n",
            "number divisibl by 2 and 6 is : 60\n",
            "number divisibl by 2 and 6 is : 66\n",
            "number divisibl by 2 and 6 is : 72\n",
            "number divisibl by 2 and 6 is : 78\n",
            "number divisibl by 2 and 6 is : 84\n",
            "number divisibl by 2 and 6 is : 90\n",
            "number divisibl by 2 and 6 is : 96\n",
            "number divisibl by 2 and 6 is : 102\n",
            "number divisibl by 2 and 6 is : 108\n",
            "number divisibl by 2 and 6 is : 114\n",
            "number divisibl by 2 and 6 is : 120\n",
            "number divisibl by 2 and 6 is : 126\n",
            "number divisibl by 2 and 6 is : 132\n",
            "number divisibl by 2 and 6 is : 138\n",
            "number divisibl by 2 and 6 is : 144\n",
            "number divisibl by 2 and 6 is : 150\n",
            "number divisibl by 2 and 6 is : 156\n",
            "number divisibl by 2 and 6 is : 162\n",
            "number divisibl by 2 and 6 is : 168\n",
            "number divisibl by 2 and 6 is : 174\n",
            "number divisibl by 2 and 6 is : 180\n"
          ]
        }
      ]
    },
    {
      "cell_type": "code",
      "source": [
        "#this is called as 2 pointer approach\n",
        "#by using indicator variable\n",
        "#here ind is indicator variable\n",
        "data=str(input(\"Enter any name or number \"))\n",
        "start=0\n",
        "ind=0\n",
        "end=len(data)-1\n",
        "while(start<len(data)):\n",
        "  if(data[start]!=data[end]):\n",
        "    print(data,\"is not palindrome\")\n",
        "    ind=5\n",
        "    break\n",
        "  print(data[start],data[end])\n",
        "  start+=1\n",
        "  end-=1\n",
        "if(ind==0):\n",
        "  print(data,\"is Palindrome\")\n"
      ],
      "metadata": {
        "colab": {
          "base_uri": "https://localhost:8080/"
        },
        "id": "tmuKR_Tdx2sa",
        "outputId": "cfcfb338-3dc9-4215-fae2-4ce4206dbb17"
      },
      "execution_count": null,
      "outputs": [
        {
          "output_type": "stream",
          "name": "stdout",
          "text": [
            "Enter any name or number raja\n",
            "raja is not palindrome\n"
          ]
        }
      ]
    },
    {
      "cell_type": "code",
      "source": [
        "#ASCII is unique standard\n",
        "ord(\"A\") #is used to print the ascii number of letter\n",
        "chr(65)#is used to print the alphabet from ascii code"
      ],
      "metadata": {
        "colab": {
          "base_uri": "https://localhost:8080/",
          "height": 35
        },
        "id": "Jkim9eKP4Uky",
        "outputId": "977d0831-09f8-44fa-a3bf-b814eaa48e83"
      },
      "execution_count": null,
      "outputs": [
        {
          "output_type": "execute_result",
          "data": {
            "text/plain": [
              "'A'"
            ],
            "application/vnd.google.colaboratory.intrinsic+json": {
              "type": "string"
            }
          },
          "metadata": {},
          "execution_count": 38
        }
      ]
    },
    {
      "cell_type": "code",
      "source": [
        "# LCM of two numbers\n",
        "#find largest no.\n",
        "#LCM should be largest number or more than largest number\n",
        "#increase by 1 untill we get the common multiplier\n",
        "a=int(input(\"Enter 1st number:\"))\n",
        "b=int(input(\"enter 2nd number:\"))\n",
        "if(a>b):\n",
        "  big=a\n",
        "else:\n",
        "  big=b\n",
        "while(True):\n",
        "  if(big%a==0 and big%b==0):\n",
        "    print(\"the LCM is\",big)\n",
        "    break\n",
        "  else:\n",
        "    big+=1\n"
      ],
      "metadata": {
        "colab": {
          "base_uri": "https://localhost:8080/"
        },
        "id": "PwJyXqE467ud",
        "outputId": "ad779e97-d204-4c35-af50-e4a84ff07b61"
      },
      "execution_count": null,
      "outputs": [
        {
          "output_type": "stream",
          "name": "stdout",
          "text": [
            "Enter 1st number:12\n",
            "enter 2nd number:7\n",
            "the LCM is 84\n"
          ]
        }
      ]
    },
    {
      "cell_type": "code",
      "source": [
        "from os import urandom\n",
        "#LIST\n",
        "#list is a datatype used to store multiple values\n",
        "#and all these values can be of any type\n",
        "#List is a mutable datatype\n",
        "\n",
        "urlist=[12,13,14,15,16,\"dev\",\"rajuLIC\"]\n",
        "print(urlist[6])"
      ],
      "metadata": {
        "colab": {
          "base_uri": "https://localhost:8080/"
        },
        "id": "k0_3Jmp79VWQ",
        "outputId": "9963be68-6d4e-4cb7-bde5-7df2dcbcda4c"
      },
      "execution_count": null,
      "outputs": [
        {
          "output_type": "stream",
          "name": "stdout",
          "text": [
            "rajuLIC\n"
          ]
        }
      ]
    },
    {
      "cell_type": "code",
      "source": [
        "from typing_extensions import LiteralString\n",
        "#to change the value of list\n",
        "#pop deletes the data\n",
        "#append adds the data in list\n",
        "urlist=[12,13,14,15,16,\"dev\",\"rajuLIC\"]\n",
        "print(urlist[6])\n",
        "urlist[3]=26\n",
        "urlist.append(\"chaiwala\")\n",
        "urlist.pop()  #deletes from last\n",
        "print(urlist)"
      ],
      "metadata": {
        "colab": {
          "base_uri": "https://localhost:8080/"
        },
        "id": "IvkgpZy3-Tjv",
        "outputId": "7e2cc0fd-2225-4276-97ee-ea5b750e11d6"
      },
      "execution_count": null,
      "outputs": [
        {
          "output_type": "stream",
          "name": "stdout",
          "text": [
            "rajuLIC\n",
            "[12, 13, 14, 26, 16, 'dev', 'rajuLIC']\n"
          ]
        }
      ]
    },
    {
      "cell_type": "code",
      "source": [
        "l=[12,12,23,43,21] #use help to get help\n",
        "print(help(l))\n"
      ],
      "metadata": {
        "colab": {
          "base_uri": "https://localhost:8080/"
        },
        "id": "wBhElGwV_8ZX",
        "outputId": "cec1b919-2144-4f50-d96e-a9fe90e98f9c"
      },
      "execution_count": null,
      "outputs": [
        {
          "output_type": "stream",
          "name": "stdout",
          "text": [
            "Help on list object:\n",
            "\n",
            "class list(object)\n",
            " |  list(iterable=(), /)\n",
            " |  \n",
            " |  Built-in mutable sequence.\n",
            " |  \n",
            " |  If no argument is given, the constructor creates a new empty list.\n",
            " |  The argument must be an iterable if specified.\n",
            " |  \n",
            " |  Methods defined here:\n",
            " |  \n",
            " |  __add__(self, value, /)\n",
            " |      Return self+value.\n",
            " |  \n",
            " |  __contains__(self, key, /)\n",
            " |      Return key in self.\n",
            " |  \n",
            " |  __delitem__(self, key, /)\n",
            " |      Delete self[key].\n",
            " |  \n",
            " |  __eq__(self, value, /)\n",
            " |      Return self==value.\n",
            " |  \n",
            " |  __ge__(self, value, /)\n",
            " |      Return self>=value.\n",
            " |  \n",
            " |  __getattribute__(self, name, /)\n",
            " |      Return getattr(self, name).\n",
            " |  \n",
            " |  __getitem__(...)\n",
            " |      x.__getitem__(y) <==> x[y]\n",
            " |  \n",
            " |  __gt__(self, value, /)\n",
            " |      Return self>value.\n",
            " |  \n",
            " |  __iadd__(self, value, /)\n",
            " |      Implement self+=value.\n",
            " |  \n",
            " |  __imul__(self, value, /)\n",
            " |      Implement self*=value.\n",
            " |  \n",
            " |  __init__(self, /, *args, **kwargs)\n",
            " |      Initialize self.  See help(type(self)) for accurate signature.\n",
            " |  \n",
            " |  __iter__(self, /)\n",
            " |      Implement iter(self).\n",
            " |  \n",
            " |  __le__(self, value, /)\n",
            " |      Return self<=value.\n",
            " |  \n",
            " |  __len__(self, /)\n",
            " |      Return len(self).\n",
            " |  \n",
            " |  __lt__(self, value, /)\n",
            " |      Return self<value.\n",
            " |  \n",
            " |  __mul__(self, value, /)\n",
            " |      Return self*value.\n",
            " |  \n",
            " |  __ne__(self, value, /)\n",
            " |      Return self!=value.\n",
            " |  \n",
            " |  __repr__(self, /)\n",
            " |      Return repr(self).\n",
            " |  \n",
            " |  __reversed__(self, /)\n",
            " |      Return a reverse iterator over the list.\n",
            " |  \n",
            " |  __rmul__(self, value, /)\n",
            " |      Return value*self.\n",
            " |  \n",
            " |  __setitem__(self, key, value, /)\n",
            " |      Set self[key] to value.\n",
            " |  \n",
            " |  __sizeof__(self, /)\n",
            " |      Return the size of the list in memory, in bytes.\n",
            " |  \n",
            " |  append(self, object, /)\n",
            " |      Append object to the end of the list.\n",
            " |  \n",
            " |  clear(self, /)\n",
            " |      Remove all items from list.\n",
            " |  \n",
            " |  copy(self, /)\n",
            " |      Return a shallow copy of the list.\n",
            " |  \n",
            " |  count(self, value, /)\n",
            " |      Return number of occurrences of value.\n",
            " |  \n",
            " |  extend(self, iterable, /)\n",
            " |      Extend list by appending elements from the iterable.\n",
            " |  \n",
            " |  index(self, value, start=0, stop=9223372036854775807, /)\n",
            " |      Return first index of value.\n",
            " |      \n",
            " |      Raises ValueError if the value is not present.\n",
            " |  \n",
            " |  insert(self, index, object, /)\n",
            " |      Insert object before index.\n",
            " |  \n",
            " |  pop(self, index=-1, /)\n",
            " |      Remove and return item at index (default last).\n",
            " |      \n",
            " |      Raises IndexError if list is empty or index is out of range.\n",
            " |  \n",
            " |  remove(self, value, /)\n",
            " |      Remove first occurrence of value.\n",
            " |      \n",
            " |      Raises ValueError if the value is not present.\n",
            " |  \n",
            " |  reverse(self, /)\n",
            " |      Reverse *IN PLACE*.\n",
            " |  \n",
            " |  sort(self, /, *, key=None, reverse=False)\n",
            " |      Sort the list in ascending order and return None.\n",
            " |      \n",
            " |      The sort is in-place (i.e. the list itself is modified) and stable (i.e. the\n",
            " |      order of two equal elements is maintained).\n",
            " |      \n",
            " |      If a key function is given, apply it once to each list item and sort them,\n",
            " |      ascending or descending, according to their function values.\n",
            " |      \n",
            " |      The reverse flag can be set to sort in descending order.\n",
            " |  \n",
            " |  ----------------------------------------------------------------------\n",
            " |  Class methods defined here:\n",
            " |  \n",
            " |  __class_getitem__(...)\n",
            " |      See PEP 585\n",
            " |  \n",
            " |  ----------------------------------------------------------------------\n",
            " |  Static methods defined here:\n",
            " |  \n",
            " |  __new__(*args, **kwargs)\n",
            " |      Create and return a new object.  See help(type) for accurate signature.\n",
            " |  \n",
            " |  ----------------------------------------------------------------------\n",
            " |  Data and other attributes defined here:\n",
            " |  \n",
            " |  __hash__ = None\n",
            "\n",
            "None\n"
          ]
        }
      ]
    },
    {
      "cell_type": "code",
      "source": [
        "#loop in list\n",
        "g=[\"15\",\"grand\",\"16\",\"father\"]\n",
        "for i in g:\n",
        "  print(i)"
      ],
      "metadata": {
        "colab": {
          "base_uri": "https://localhost:8080/"
        },
        "id": "2eJBXiVGAMOk",
        "outputId": "88c34a88-8e9d-4a04-a04d-eac90c80440a"
      },
      "execution_count": null,
      "outputs": [
        {
          "output_type": "stream",
          "name": "stdout",
          "text": [
            "15\n",
            "grand\n",
            "16\n",
            "father\n"
          ]
        }
      ]
    },
    {
      "cell_type": "code",
      "source": [
        "hut=[1,2,3,4,5]\n",
        "for i in range(0,2):\n",
        "  print(i,hut[i])"
      ],
      "metadata": {
        "colab": {
          "base_uri": "https://localhost:8080/"
        },
        "id": "ecrBuTZUBHMd",
        "outputId": "66adcf29-c802-4b6b-94f2-ee772a077fc2"
      },
      "execution_count": null,
      "outputs": [
        {
          "output_type": "stream",
          "name": "stdout",
          "text": [
            "0 1\n",
            "1 2\n"
          ]
        }
      ]
    },
    {
      "cell_type": "code",
      "source": [
        "#to find the power of a number using for loop\n",
        "a=int(input(\"enter a number \"))\n",
        "b=int(input(\"enter the power of the number\"))\n",
        "result=1\n",
        "for _ in range(b):\n",
        "  result=result*a\n",
        "print(a,\"raise to the power\",b,\"is:\",result)"
      ],
      "metadata": {
        "colab": {
          "base_uri": "https://localhost:8080/"
        },
        "id": "ncIMUXZTD5pe",
        "outputId": "5aeb4cd6-3b9b-49b7-882a-2db498110469"
      },
      "execution_count": null,
      "outputs": [
        {
          "output_type": "stream",
          "name": "stdout",
          "text": [
            "enter a number 10\n",
            "enter the power of the number5\n",
            "10 raise to the power 5 is: 100000\n"
          ]
        }
      ]
    },
    {
      "cell_type": "code",
      "source": [
        "#all the factors of  number\n",
        "a=int(input(\"Enter the number:\"))\n",
        "b=1\n",
        "for b in range(b,a+1):\n",
        "  if(a%b==0):\n",
        "    print(b)\n",
        "    b+=1"
      ],
      "metadata": {
        "colab": {
          "base_uri": "https://localhost:8080/"
        },
        "id": "ugSPk-srIL0P",
        "outputId": "6bff81b1-00d0-44aa-c89d-9046fdffc9c2"
      },
      "execution_count": null,
      "outputs": [
        {
          "output_type": "stream",
          "name": "stdout",
          "text": [
            "Enter the number:46\n",
            "1\n",
            "2\n",
            "23\n",
            "46\n"
          ]
        }
      ]
    },
    {
      "cell_type": "code",
      "source": [
        "#to calculate the factorial of a number\n",
        "a=int(input(\"enter the number:\"))\n",
        "b=1\n",
        "for i in range(1,a+1):\n",
        "  b=b*i\n",
        "print(b)"
      ],
      "metadata": {
        "colab": {
          "base_uri": "https://localhost:8080/"
        },
        "id": "fTT-N5bXMjIm",
        "outputId": "9f73f358-0d73-4b82-e04a-05be432a91ac"
      },
      "execution_count": null,
      "outputs": [
        {
          "output_type": "stream",
          "name": "stdout",
          "text": [
            "enter the number:4\n",
            "24\n"
          ]
        }
      ]
    },
    {
      "cell_type": "code",
      "source": [
        "#to check the number is prime or not\n",
        "a=int(input(\"enter the number:\"))\n",
        "b=0\n",
        "\n",
        "if a <= 1:\n",
        "  print(a, \"is not a prime number\")\n",
        "else:\n",
        "  for i in range(1, a + 1):\n",
        "    if a % i == 0:\n",
        "      b += 1\n",
        "\n",
        "  if b == 2:\n",
        "    print(a, \"is a prime number\")\n",
        "  else:\n",
        "    print(a, \"is not a prime number\")"
      ],
      "metadata": {
        "colab": {
          "base_uri": "https://localhost:8080/"
        },
        "id": "DLBsBJf6Pk9F",
        "outputId": "a45f73ef-2eb1-49b4-9cc2-6222ff2a5bff"
      },
      "execution_count": null,
      "outputs": [
        {
          "output_type": "stream",
          "name": "stdout",
          "text": [
            "enter the number:29\n",
            "29 is a prime number\n"
          ]
        }
      ]
    },
    {
      "cell_type": "code",
      "source": [
        "#LCM of a two numbers\n",
        "a=int(input(\"enter the number:\"))\n",
        "b=int(input(\"enter the number:\"))\n",
        "if(a>b):\n",
        "  big=a\n",
        "else:\n",
        "  big=b\n",
        "while(True):\n",
        "  if(big%a==0 and big%b==0):\n",
        "    print(big,\"is the LCM of a and b\")\n",
        "    break\n",
        "  else:\n",
        "    big+=1"
      ],
      "metadata": {
        "colab": {
          "base_uri": "https://localhost:8080/"
        },
        "id": "0Fp95YmOTl1Y",
        "outputId": "9a49cce1-0dc5-4a7b-828d-40caeca3ccdd"
      },
      "execution_count": null,
      "outputs": [
        {
          "output_type": "stream",
          "name": "stdout",
          "text": [
            "enter the number:4\n",
            "enter the number:18\n",
            "36 is the LCM of a and b\n"
          ]
        }
      ]
    },
    {
      "cell_type": "code",
      "source": [
        "#print all prime numbers between 1 to n\n",
        "a=int(input(\"enter the number:\"))\n",
        "for b in range(2,a+1):\n"
      ],
      "metadata": {
        "id": "DF1D8ZaaVjFM"
      },
      "execution_count": null,
      "outputs": []
    }
  ]
}